{
 "cells": [
  {
   "cell_type": "code",
   "execution_count": null,
   "id": "758056b8-aef7-4df9-bda7-14faa2f37a71",
   "metadata": {
    "collapsed": true,
    "jupyter": {
     "outputs_hidden": true,
     "source_hidden": true
    }
   },
   "outputs": [],
   "source": [
    "from bs4 import BeautifulSoup\n",
    "import requests\n",
    "from urllib.parse import urljoin\n",
    "\n",
    "import logging\n",
    "import os\n",
    "\n",
    "from concurrent.futures import ThreadPoolExecutor"
   ]
  },
  {
   "cell_type": "code",
   "execution_count": null,
   "id": "3104d267-1c5c-4a07-a37c-3635308eb7ab",
   "metadata": {
    "collapsed": true,
    "jupyter": {
     "outputs_hidden": true,
     "source_hidden": true
    }
   },
   "outputs": [],
   "source": [
    "_logger = None\n",
    "\n",
    "def get_logger(name=\"books_scraper\"):\n",
    "    \"\"\"Singleton logger to be used across the project.\"\"\"\n",
    "    global _logger\n",
    "    if _logger:\n",
    "        return _logger\n",
    "\n",
    "    os.makedirs(\"logs\", exist_ok=True)\n",
    "    \n",
    "    logger = logging.getLogger(name)\n",
    "    logger.setLevel(logging.INFO)\n",
    "\n",
    "    if not logger.handlers:\n",
    "        formatter = logging.Formatter(\n",
    "            \"[%(levelname)s] %(filename)s:%(lineno)d %(funcName)s() %(message)s %(asctime)s\"            \n",
    "        )\n",
    "\n",
    "        file_handler = logging.FileHandler(\"logs/scraper.log\")\n",
    "        file_handler.setFormatter(formatter)\n",
    "        logger.addHandler(file_handler)\n",
    "\n",
    "        console = logging.StreamHandler()\n",
    "        console.setFormatter(formatter)\n",
    "        logger.addHandler(console)\n",
    "\n",
    "    _logger = logger\n",
    "    return logger\n",
    "\n",
    "\n",
    "try:\n",
    "    logger = get_logger()\n",
    "    logger_fallback = False\n",
    "except Exception as e:\n",
    "    print(f\"[Logger fallback] Logger not available: {type(e).__name__} - {e}\")\n",
    "    \n",
    "    class DummyLogger:\n",
    "        def info(self, msg): print(f\"[INFO] {msg}\")\n",
    "        def warning(self, msg): print(f\"[WARN] {msg}\")\n",
    "        def error(self, msg): print(f\"[ERROR] {msg}\")\n",
    "        def exception(self, msg): print(f\"[EXCEPTION] {msg}\")\n",
    "    \n",
    "    logger = DummyLogger()\n",
    "    logger_fallback = True"
   ]
  },
  {
   "cell_type": "code",
   "execution_count": null,
   "id": "cd5b8ebd-bf6b-4d66-b0cb-2710a346c45d",
   "metadata": {
    "collapsed": true,
    "jupyter": {
     "outputs_hidden": true,
     "source_hidden": true
    }
   },
   "outputs": [],
   "source": [
    "def fetch_response(url, session=requests.Session()):\n",
    "    try:\n",
    "        response = session.get(url, timeout=10)\n",
    "        response.raise_for_status()\n",
    "        logger.info(f\"fetched: {url}\")\n",
    "        return response\n",
    "    except requests.exceptions.HTTPError as errh:\n",
    "        logger.warning(f\"HTTP error occurred:\\n{errh}\")\n",
    "    except requests.exceptions.RequestException as err:\n",
    "        logger.warning(f\"{type(err).__name__}\\n{err}\")\n",
    "    except Exception as e:\n",
    "        logger.warning(f\"Unhandled exception:\\n{type(e).__name__}: {e}\")"
   ]
  },
  {
   "cell_type": "code",
   "execution_count": null,
   "id": "68985448-1ffa-4ad7-b2f2-c37d787f16ff",
   "metadata": {
    "collapsed": true,
    "jupyter": {
     "outputs_hidden": true,
     "source_hidden": true
    }
   },
   "outputs": [],
   "source": [
    "def make_soup(response):\n",
    "    if not (response and response.status_code == 200):\n",
    "        logger.warning(f\"couldn't make soup with: {response}\")\n",
    "        return\n",
    "    html = response.text\n",
    "    soup = BeautifulSoup(html, \"lxml\")\n",
    "    logger.info(f\"soup's ready!\")\n",
    "    return soup"
   ]
  },
  {
   "cell_type": "code",
   "execution_count": null,
   "id": "8700728c-4d2a-4e32-8ba1-dbd3844d08cb",
   "metadata": {
    "collapsed": true,
    "jupyter": {
     "outputs_hidden": true,
     "source_hidden": true
    }
   },
   "outputs": [],
   "source": [
    "def fetch_next_page(base_url):\n",
    "    res = fetch_response(base_url)\n",
    "    soup = make_soup(res)\n",
    "    \n",
    "    link = ((el := soup.select_one(\".pager .next a\")) and el.get(\"href\")) if soup else None\n",
    "    return urljoin(base_url, link), soup if link else None"
   ]
  },
  {
   "cell_type": "code",
   "execution_count": null,
   "id": "c42f4bc1-751d-42b1-8bd3-d14ce40db66b",
   "metadata": {
    "collapsed": true,
    "jupyter": {
     "outputs_hidden": true,
     "source_hidden": true
    }
   },
   "outputs": [],
   "source": [
    "def extract_all_books_data(soup):\n",
    "    if not soup or not (books := soup.select(\"article.product_pod\")):\n",
    "        logger.info(\"soup had books data\")\n",
    "        return\n",
    "        \n",
    "    extracted_data = []\n",
    "    # lambda (selector, attr): (_.get(attr) if (_:= book.select_one(selector)) else \"\") # to avoid NoneType has no attr x\n",
    "    for book in books:\n",
    "        data = {\n",
    "            #image element data\n",
    "            \"image_href\": book.select_one(\".image_container a\").get(\"href\"),  # better to fail fast on no container w/ a\n",
    "            \"image_alt\": book.select_one(\".image_container a\").img.get(\"alt\"), # reach inside <a> to find <img>\n",
    "            \"image_src\": book.select_one(\".image_container a\").img.get(\"src\"),\n",
    "            \n",
    "            # star rating\n",
    "            \"star_rating\": [i for i in book.select_one(\".star-rating\").get(\"class\") if i != \"star-rating\"][0],    # from list of classes on attr filter out star-rating assume index 0 is the rating \n",
    "\n",
    "            # title element data\n",
    "            \"title_href\": book.select_one(\"h3 a\").get(\"href\"),\n",
    "            \"title_text\": book.select_one(\"h3 a\").get(\"title\"),    #.get_text()?\n",
    "            \n",
    "            # price and availability\n",
    "            \"price\": book.select_one(\".product_price\").select_one(\".price_color\").get_text(strip=True),\n",
    "            \"availability\": book.select_one(\".product_price\").select_one(\".availability\").get_text(strip=True),\n",
    "        }\n",
    "        extracted_data.append(data)\n",
    "    return extracted_data"
   ]
  },
  {
   "cell_type": "code",
   "execution_count": null,
   "id": "6001de56-62b8-45fc-940e-d76a9d5741d5",
   "metadata": {
    "collapsed": true,
    "jupyter": {
     "outputs_hidden": true,
     "source_hidden": true
    }
   },
   "outputs": [],
   "source": [
    "def pager(base):\n",
    "    \"\"\"get all next pages starting at base\"\"\"\n",
    "    links = []\n",
    "    while (next, rest := fetch_next_page(base)):\n",
    "        links.append(next)\n",
    "        base = next\n",
    "    return links"
   ]
  },
  {
   "cell_type": "code",
   "execution_count": null,
   "id": "e00ff137-a775-437f-ae73-5ac69d128ab5",
   "metadata": {
    "collapsed": true,
    "jupyter": {
     "outputs_hidden": true,
     "source_hidden": true
    }
   },
   "outputs": [],
   "source": [
    "def complete_links(books:list[dict], base_url):\n",
    "    for i, book in enumerate(books):\n",
    "        new_book = book.copy()\n",
    "        for key, val in book.items():\n",
    "            if \"href\" in key or \"src\" in key:\n",
    "                new_book[key] = urljoin(base_url, val)\n",
    "        books[i] = new_book\n",
    "    \n",
    "    return books"
   ]
  },
  {
   "cell_type": "code",
   "execution_count": null,
   "id": "5f438722-5018-45e6-826a-a3b7830c9552",
   "metadata": {
    "collapsed": true,
    "jupyter": {
     "outputs_hidden": true,
     "source_hidden": true
    }
   },
   "outputs": [],
   "source": [
    "url = \"https://books.toscrape.com\"\n",
    "html = \"\"\"\n",
    "<article class=\"product_pod\">\n",
    "  <div class=\"image_container\">\n",
    "    <a href=\"catalogue/a-light-in-the-attic_1000/index.html\"><img alt=\"A Light in the Attic\" class=\"thumbnail\" src=\"media/cache/2c/da/2cdad67c44b002e7ead0cc35693c0e8b.jpg\" /></a>\n",
    "  </div>\n",
    "  <p class=\"star-rating Three\">\n",
    "    <i class=\"icon-star\"></i>\n",
    "    <i class=\"icon-star\"></i>\n",
    "    <i class=\"icon-star\"></i>\n",
    "    <i class=\"icon-star\"></i>\n",
    "    <i class=\"icon-star\"></i>\n",
    "  </p>\n",
    "  <h3><a href=\"catalogue/a-light-in-the-attic_1000/index.html\" title=\"A Light in the Attic\">A Light in the ...</a></h3>\n",
    "  <div class=\"product_price\">\n",
    "    <p class=\"price_color\">Â£51.77</p>\n",
    "    <p class=\"instock availability\">\n",
    "      <i class=\"icon-ok\"></i>\n",
    "      \n",
    "       In stock\n",
    "       \n",
    "    </p>\n",
    "    <form>\n",
    "      <button class=\"btn btn-primary btn-block\" data-loading-text=\"Adding...\" type=\"submit\">Add to basket</button>\n",
    "    </form>\n",
    "  </div>\n",
    "</article>\n",
    "\"\"\"\n",
    "class DummyResponse():\n",
    "    text = html\n",
    "    status_code = 200"
   ]
  },
  {
   "cell_type": "markdown",
   "id": "07ec8d6d-9159-4f69-b244-7f73d5a09d67",
   "metadata": {
    "jupyter": {
     "source_hidden": true
    }
   },
   "source": [
    "I've decided to take advantage of Python modularization\n",
    "to make this notebook the testing grounds for all the tasks i set to showcase in web scaroing using he site https://books.toscrape.com"
   ]
  },
  {
   "cell_type": "markdown",
   "id": "47edef4c-48a4-441e-b665-62a3d53f92fc",
   "metadata": {
    "jupyter": {
     "source_hidden": true
    }
   },
   "source": [
    "the project consists of the files 🗃️"
   ]
  },
  {
   "cell_type": "code",
   "execution_count": null,
   "id": "ff3c9f9c-f42c-420d-a09d-fd5137bf903b",
   "metadata": {
    "collapsed": true,
    "jupyter": {
     "outputs_hidden": true,
     "source_hidden": true
    }
   },
   "outputs": [],
   "source": [
    "%%sh\n",
    "ls"
   ]
  },
  {
   "cell_type": "markdown",
   "id": "912ef896-7e09-491d-893a-f7fa76ca5230",
   "metadata": {
    "jupyter": {
     "source_hidden": true
    }
   },
   "source": [
    "we'll mostly be working from this notebook 📓\n",
    "\n",
    "with all of the inner code abstracted away and tucked into tiny modular .py scripts\n",
    "\n",
    "exposing only the function calls in hopes of being able to reuse the same functions but with different arguments to scrape different sites"
   ]
  },
  {
   "cell_type": "code",
   "execution_count": null,
   "id": "8d6e70bc-7819-4d31-8893-c95ce91ecb65",
   "metadata": {
    "collapsed": true,
    "jupyter": {
     "outputs_hidden": true,
     "source_hidden": true
    }
   },
   "outputs": [],
   "source": [
    "%%html\n",
    "<header>\n",
    "    <link rel=\"stylesheet\" href=\"css/styles.css\" />\n",
    "</header>\n",
    "\n",
    "<body id=\"default\" class=\"default\">\n",
    "    <header class=\"header container-fluid\">\n",
    "        <div class=\"page_inner\">\n",
    "            <div class=\"row\">\n",
    "                <div class=\"col-sm-8 h1\"><a href=\"../index.html\">Books to Scrape</a><small> We love being scraped!</small>\n",
    "</div>\n",
    "            </div>\n",
    "        </div>\n",
    "    </header>\n",
    "<div class=\"container-fluid page\">\n",
    "    <div class=\"page_inner\">\n",
    "    <ul class=\"breadcrumb\">\n",
    "        <li>\n",
    "            <a href=\"../index.html\">Home</a>\n",
    "        </li>\n",
    "        <li class=\"active\">All products</li>\n",
    "    </ul>\n",
    "        <div class=\"row\">\n",
    "            <aside class=\"sidebar col-sm-4 col-md-3\">\n",
    "                <div id=\"promotions_left\">\n",
    "                </div>\n",
    "        <div class=\"side_categories\">\n",
    "            <ul class=\"nav nav-list\">\n",
    "                    <li>\n",
    "                        <a href=\"https://books.toscrape.com/category/books_1/index.html\">Books</a>\n",
    "                        <ul>\n",
    "                    <li>\n",
    "                        <a href=\"https://books.toscrape.com/category/books/travel_2/index.html\">Travel</a>\n",
    "                        </li>\n",
    "                    <li>\n",
    "                        <a href=\"https://books.toscrape.com/category/books/sequential-art_5/index.Sequential Art</a>\n",
    "                        </li>        \n",
    "                    <li>\n",
    "                        <a href=\"https://books.toscrape.com/category/books/crime_51/index.html\">Crime</a>\n",
    "                        </li>\n",
    "                            </ul></li>\n",
    "            </ul>\n",
    "        </div>\n",
    "            </aside>\n",
    "\n",
    "            <div class=\"col-sm-8 col-md-9\">\n",
    "                <div class=\"page-header action\">\n",
    "                    <h1>All products</h1>\n",
    "                </div>\n",
    "<div id=\"messages\"></div>\n",
    "                <div id=\"promotions\"></div>         \n",
    "    <form method=\"get\" class=\"form-horizontal\">\n",
    "        <div style=\"display:none\"> \n",
    "        </div>\n",
    "                    <strong>1000</strong> results - showing <strong>981</strong> to <strong>1000</strong>. \n",
    "    </form>\n",
    "        <section>\n",
    "<div>\n",
    "                <ol class=\"row\">\n",
    "                        <li class=\"col-xs-6 col-sm-4 col-md-3 col-lg-3\">\n",
    "    <article class=\"product_pod\">\n",
    "            <div class=\"image_container\">\n",
    "                    <a href=\"https://books.toscrape.com/ajin-demi-human-volume-1-ajin-demi-human-1_4/index.html\"><img src=\"https://books.toscrape.com/media/cache/09/7c/097cb5ecc6fb3fbe1690cf0cbdea4ac5.jpg\" alt=\"Ajin: Demi-Human, Volume 1 (Ajin: Demi-Human #1)\" class=\"thumbnail\"></a>\n",
    "            </div>\n",
    "                <p class=\"star-rating Four\">\n",
    "                    <i class=\"icon-star\"></i>\n",
    "                    <i class=\"icon-star\"></i>\n",
    "                    <i class=\"icon-star\"></i>\n",
    "                </p>\n",
    "            <h3><a href=\"https://books.toscrape.com/ajin-demi-human-volume-1-ajin-demi-human-1_4/index.html\" title=\"Ajin: Demi-Human, Volume 1 (Ajin: Demi-Human #1)\">Ajin: Demi-Human, Volume 1 ...</a></h3>\n",
    "            <div class=\"product_price\">\n",
    "        <p class=\"price_color\">£57.06</p>\n",
    "<p class=\"instock availability\">\n",
    "    <i class=\"icon-ok\"></i>\n",
    "        In stock\n",
    "</p>\n",
    "    <form>\n",
    "        <button type=\"submit\" class=\"btn btn-primary btn-block\" data-loading-text=\"Adding...\">Add to basket</button>\n",
    "    </form> \n",
    "            </div>\n",
    "    </article>\n",
    "</li>\n",
    "                        <li class=\"col-xs-6 col-sm-4 col-md-3 col-lg-3\">\n",
    "    <article class=\"product_pod\">\n",
    "            <div class=\"image_container\">\n",
    "                    <a href=\"https://books.toscrape.com/1000-places-to-see-before-you-die_1/index.html\"><img src=\"https://books.toscrape.com/media/cache/d7/0f/d70f7edd92705c45a82118c3ff6c299d.jpg\" alt=\"1,000 Places to See Before You Die\" class=\"thumbnail\"></a>      \n",
    "            </div>\n",
    "                <p class=\"star-rating Five\">\n",
    "                    <i class=\"icon-star\"></i>\n",
    "                    <i class=\"icon-star\"></i>\n",
    "                    <i class=\"icon-star\"></i>\n",
    "                </p>\n",
    "            \n",
    "            <h3><a href=\"https://books.toscrape.com/1000-places-to-see-before-you-die_1/index.html\" title=\"1,000 Places to See Before You Die\">1,000 Places to See ...</a></h3>\n",
    "            <div class=\"product_price\">\n",
    "        <p class=\"price_color\">£26.08</p>\n",
    "<p class=\"instock availability\">\n",
    "    <i class=\"icon-ok\"></i>\n",
    "        In stock\n",
    "</p>\n",
    "    <form>\n",
    "        <button type=\"submit\" class=\"btn btn-primary btn-block\" data-loading-text=\"Adding...\">Add to basket</button>\n",
    "    </form>\n",
    "            </div>\n",
    "    </article>\n",
    "</li>\n",
    "                </ol>\n",
    "    <div>\n",
    "        <ul class=\"pager\">\n",
    "                <li class=\"previous\"><a href=\"page-49.html\">previous</a></li>\n",
    "            <li class=\"current\">\n",
    "                Page 50 of 50\n",
    "            </li>\n",
    "        </ul>\n",
    "    </div>\n",
    "            </div>\n",
    "        </section>\n",
    "            </div>\n",
    "        </div>\n",
    "    </div>\n",
    "</div>\n",
    "\n",
    "\n",
    "    \n",
    "<footer class=\"footer container-fluid\"></footer>\n",
    "</body>"
   ]
  },
  {
   "cell_type": "markdown",
   "id": "aa3a6a79-73ad-4dd9-88e7-1961065b07f5",
   "metadata": {
    "jupyter": {
     "source_hidden": true
    }
   },
   "source": [
    "above is a minimal version of the books to scrape web site \n",
    "shown for demonstarion well be woriking to srcape components for infomation using requests and beautifulsoup\n",
    "\n",
    "the target componebt 1st wil be the asisde navlist to get the laist of book cartegories "
   ]
  },
  {
   "cell_type": "code",
   "execution_count": null,
   "id": "f6275064-271d-4c7f-8782-4f9ecf24ffc9",
   "metadata": {
    "collapsed": true,
    "jupyter": {
     "outputs_hidden": true,
     "source_hidden": true
    }
   },
   "outputs": [],
   "source": [
    "# urls = [\"https://books.toscrape.com/catalogue/page-1.html\", \"https://books.toscrape.com/catalogue/page-2.html\", \"https://books.toscrape.com/catalogue/page-3.html\", \"https://books.toscrape.com/catalogue/page-4.html\"]\n",
    "\n",
    "# with ThreadPoolExecutor(max_workers=5) as executor:\n",
    "#     results = executor.map(fetch_response, urls)\n",
    "\n",
    "# for i in results:\n",
    "#     print(i)"
   ]
  },
  {
   "cell_type": "code",
   "execution_count": null,
   "id": "cac35a31-ee7e-4a61-b89f-4346da6cd460",
   "metadata": {
    "collapsed": true,
    "jupyter": {
     "outputs_hidden": true,
     "source_hidden": true
    },
    "scrolled": true
   },
   "outputs": [],
   "source": [
    "# response = fetch_response(url) or DummyResponse()\n",
    "# soup = make_soup(response)\n",
    "# books = extract_all_books_data(soup)\n",
    "# book = books[0]"
   ]
  },
  {
   "cell_type": "code",
   "execution_count": null,
   "id": "01bf79f0-67c2-4751-b294-6ccfb23443e1",
   "metadata": {
    "collapsed": true,
    "jupyter": {
     "outputs_hidden": true,
     "source_hidden": true
    }
   },
   "outputs": [],
   "source": [
    "# block for retriving list of categories\n",
    "# nav = soup.select_one(\".nav-list\")"
   ]
  }
 ],
 "metadata": {
  "kernelspec": {
   "display_name": "Python 3 (ipykernel)",
   "language": "python",
   "name": "python3"
  },
  "language_info": {
   "codemirror_mode": {
    "name": "ipython",
    "version": 3
   },
   "file_extension": ".py",
   "mimetype": "text/x-python",
   "name": "python",
   "nbconvert_exporter": "python",
   "pygments_lexer": "ipython3",
   "version": "3.13.2"
  },
  "widgets": {
   "application/vnd.jupyter.widget-state+json": {
    "state": {},
    "version_major": 2,
    "version_minor": 0
   }
  }
 },
 "nbformat": 4,
 "nbformat_minor": 5
}
