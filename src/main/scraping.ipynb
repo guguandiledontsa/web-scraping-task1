{
 "cells": [
  {
   "cell_type": "code",
   "execution_count": null,
   "id": "758056b8-aef7-4df9-bda7-14faa2f37a71",
   "metadata": {
    "jupyter": {
     "source_hidden": true
    }
   },
   "outputs": [],
   "source": [
    "from bs4 import BeautifulSoup\n",
    "import requests\n",
    "from urllib.parse import urljoin\n",
    "import shutil\n",
    "\n",
    "import logging\n",
    "import os\n",
    "\n",
    "from concurrent.futures import ThreadPoolExecutor\n",
    "\n",
    "from functools import partial\n",
    "from IPython.display import display, HTML"
   ]
  },
  {
   "cell_type": "code",
   "execution_count": null,
   "id": "3104d267-1c5c-4a07-a37c-3635308eb7ab",
   "metadata": {
    "jupyter": {
     "source_hidden": true
    }
   },
   "outputs": [],
   "source": [
    "_logger = None\n",
    "\n",
    "def get_logger(name=\"books_scraper\"):\n",
    "    \"\"\"Singleton logger to be used across the project.\n",
    "    \n",
    "    This version explicitly deletes the logs directory and its contents\n",
    "    before recreating it to ensure a clean start for each program run.\n",
    "    \"\"\"\n",
    "    global _logger\n",
    "    if _logger:\n",
    "        return _logger\n",
    "\n",
    "    if os.path.exists(\"logs\"):\n",
    "        shutil.rmtree(\"logs\")\n",
    "    \n",
    "    os.makedirs(\"logs\", exist_ok=True)\n",
    "    \n",
    "    logger = logging.getLogger(name)\n",
    "    logger.setLevel(logging.INFO)\n",
    "\n",
    "    if not logger.handlers:\n",
    "        formatter = logging.Formatter(\n",
    "            \"[%(levelname)s] %(filename)s:%(lineno)d %(funcName)s() %(message)s %(asctime)s\"\n",
    "        )\n",
    "\n",
    "        file_handler = logging.FileHandler(\"logs/scraping.log\", mode=\"w\")\n",
    "        file_handler.setFormatter(formatter)\n",
    "        logger.addHandler(file_handler)\n",
    "\n",
    "        console = logging.StreamHandler()\n",
    "        console.setFormatter(formatter)\n",
    "        logger.addHandler(console)\n",
    "\n",
    "    _logger = logger\n",
    "    return logger\n",
    "\n",
    "try:\n",
    "    logger = get_logger()\n",
    "    logger_fallback = False\n",
    "except Exception as e:\n",
    "    print(f\"[Logger fallback] Logger not available: {type(e).__name__} - {e}\")\n",
    "    \n",
    "    class DummyLogger:\n",
    "        def info(self, msg): print(f\"[INFO] {msg}\")\n",
    "        def warning(self, msg): print(f\"[WARN] {msg}\")\n",
    "        def error(self, msg): print(f\"[ERROR] {msg}\")\n",
    "        def exception(self, msg): print(f\"[EXCEPTION] {msg}\")\n",
    "    \n",
    "    logger = DummyLogger()\n",
    "    logger_fallback = True"
   ]
  },
  {
   "cell_type": "code",
   "execution_count": null,
   "id": "cd5b8ebd-bf6b-4d66-b0cb-2710a346c45d",
   "metadata": {
    "jupyter": {
     "source_hidden": true
    }
   },
   "outputs": [],
   "source": [
    "def fetch_response(url, session=requests.Session()):\n",
    "    try:\n",
    "        response = session.get(url, timeout=10)\n",
    "        response.raise_for_status()\n",
    "        logger.info(f\"fetched: {url}\")\n",
    "        return response\n",
    "    except requests.exceptions.HTTPError as errh:\n",
    "        logger.warning(f\"HTTP error occurred:\\n{errh}\")\n",
    "    except requests.exceptions.RequestException as err:\n",
    "        logger.warning(f\"{type(err).__name__}\\n{err}\")\n",
    "    except Exception as e:\n",
    "        logger.warning(f\"Unhandled exception:\\n{type(e).__name__}: {e}\")\n",
    "\n",
    "my_html = \"\"\"\n",
    "<header>\n",
    "    <link rel=\"stylesheet\" href=\"styles/styles.css\" />\n",
    "</header>\n",
    "\n",
    "<body id=\"default\" class=\"default\">\n",
    "  <header class=\"header container-fluid\">\n",
    "    <div class=\"page_inner\">\n",
    "      <div class=\"row\">\n",
    "        <div class=\"col-sm-8 h1\"><a href=\"https://books.toscrape.com/index.html\">Books to Scrape</a><small> We love being scraped!</small>\n",
    "        </div>\n",
    "      </div>\n",
    "    </div>\n",
    "  </header>\n",
    "  <div class=\"container-fluid page\">\n",
    "    <div class=\"page_inner\">\n",
    "      <ul class=\"breadcrumb\">\n",
    "        <li>\n",
    "          <a href=\"https://books.toscrape.com/index.html\">Home</a>\n",
    "        </li>\n",
    "        <li class=\"active\">All products</li>\n",
    "      </ul>\n",
    "      <div class=\"row\">\n",
    "        <aside class=\"sidebar col-sm-4 col-md-3\">\n",
    "          <div id=\"promotions_left\">\n",
    "          </div>\n",
    "          <div class=\"side_categories\">\n",
    "            <ul class=\"nav nav-list\">\n",
    "              <li>\n",
    "                <a href=\"https://books.toscrape.com/category/books_1/index.html\">Books</a>\n",
    "            </li>\n",
    "            </ul>\n",
    "            <ul>\n",
    "              <li>\n",
    "                <a href=\"https://books.toscrape.com/category/books/travel_2/index.html\">Travel</a>\n",
    "              </li>\n",
    "                  <li>\n",
    "                    <a href=\"https://books.toscrape.com/category/books/sequential-art_5/index.html\">Sequential Art</a>\n",
    "                  </li>\n",
    "                  <li>\n",
    "                    <a href=\"https://books.toscrape.com/category/books/crime_51/index.html\">Crime</a>\n",
    "                  </li>\n",
    "                </ul>\n",
    "              </li>\n",
    "            </ul>\n",
    "          </div>\n",
    "        </aside>\n",
    "        \n",
    "        <div class=\"col-sm-8 col-md-9\">\n",
    "          <div class=\"page-header action\">\n",
    "            <h1>All products</h1>\n",
    "          </div>\n",
    "          <div id=\"messages\"></div>\n",
    "          <div id=\"promotions\"></div>\n",
    "          <form method=\"get\" class=\"form-horizontal\">\n",
    "            <div style=\"display:none\"></div>\n",
    "            <strong>1000</strong> results - showing <strong>981</strong> to <strong>1000</strong>.\n",
    "          </form>\n",
    "          <section>\n",
    "            <div>\n",
    "              <ol class=\"row\">\n",
    "                <li class=\"col-xs-6 col-sm-4 col-md-3 col-lg-3\">\n",
    "                  <article class=\"product_pod\">\n",
    "                    <div class=\"image_container\">\n",
    "                      <a href=\"https://books.toscrape.com/ajin-demi-human-volume-1-ajin-demi-human-1_4/index.html\"><img src=\"https://books.toscrape.com/media/cache/09/7c/097cb5ecc6fb3fbe1690cf0cbdea4ac5.jpg\" alt=\"Ajin: Demi-Human, Volume 1 (Ajin: Demi-Human #1)\" class=\"thumbnail\"></a>\n",
    "                    </div>\n",
    "                    <p class=\"star-rating three\">\n",
    "                      <i class=\"icon-star\"></i>\n",
    "                      <i class=\"icon-star\"></i>\n",
    "                      <i class=\"icon-star\"></i>\n",
    "                    </p>\n",
    "                    <h3><a href=\"https://books.toscrape.com/ajin-demi-human-volume-1-ajin-demi-human-1_4/index.html\" title=\"Ajin: Demi-Human, Volume 1 (Ajin: Demi-Human #1)\">Ajin: Demi-Human, Volume 1 ...</a></h3>\n",
    "                    <div class=\"product_price\">\n",
    "                      <p class=\"price_color\">£57.06</p>\n",
    "                      <p class=\"instock availability\">\n",
    "                        <i class=\"icon-ok\"></i>\n",
    "                        In stock\n",
    "                      </p>\n",
    "                      <form>\n",
    "                        <button type=\"submit\" class=\"btn btn-primary btn-block\" data-loading-text=\"Adding...\">Add to basket</button>\n",
    "                      </form>\n",
    "                    </div>\n",
    "                  </article>\n",
    "                </li>\n",
    "                <li class=\"col-xs-6 col-sm-4 col-md-3 col-lg-3\">\n",
    "                  <article class=\"product_pod\">\n",
    "                    <div class=\"image_container\">\n",
    "                      <a href=\"https://books.toscrape.com/1000-places-to-see-before-you-die_1/index.html\"><img src=\"https://books.toscrape.com/media/cache/d7/0f/d70f7edd92705c45a82118c3ff6c299d.jpg\" alt=\"1,000 Places to See Before You Die\" class=\"thumbnail\"></a>\n",
    "                    </div>\n",
    "                    <p class=\"star-rating Five\">\n",
    "                      <i class=\"icon-star\"></i>\n",
    "                      <i class=\"icon-star\"></i>\n",
    "                      <i class=\"icon-star\"></i>\n",
    "                    </p>\n",
    "                    \n",
    "                    <h3><a href=\"https://books.toscrape.com/1000-places-to-see-before-you-die_1/index.html\" title=\"1,000 Places to See Before You Die\">1,000 Places to See ...</a></h3>\n",
    "                    <div class=\"product_price\">\n",
    "                      <p class=\"price_color\">£26.08</p>\n",
    "                      <p class=\"instock availability\">\n",
    "                        <i class=\"icon-ok\"></i>\n",
    "                        In stock\n",
    "                      </p>\n",
    "                      <form>\n",
    "                        <button type=\"submit\" class=\"btn btn-primary btn-block\" data-loading-text=\"Adding...\">Add to basket</button>\n",
    "                      </form>\n",
    "                    </div>\n",
    "                  </article>\n",
    "                </li>\n",
    "              </ol>\n",
    "              <div>\n",
    "                <ul class=\"pager\">\n",
    "                  <li class=\"previous\"><a href=\"https://books.toscrape.com/catalogue/page-49.html\">previous</a></li>\n",
    "                  <li class=\"current\">\n",
    "                    Page 50 of 50\n",
    "                  </li>\n",
    "                </ul>\n",
    "              </div>\n",
    "            </div>\n",
    "          </section>\n",
    "        </div>\n",
    "      </div>\n",
    "    </div>\n",
    "  </div>\n",
    "  <footer class=\"footer container-fluid\"></footer>\n",
    "</body>\n",
    "\"\"\"\n",
    "class DummyResponse():\n",
    "    text = my_html\n",
    "    status_code = 200\n",
    "\n",
    "display(HTML(my_html))"
   ]
  },
  {
   "cell_type": "code",
   "execution_count": null,
   "id": "68985448-1ffa-4ad7-b2f2-c37d787f16ff",
   "metadata": {
    "jupyter": {
     "source_hidden": true
    }
   },
   "outputs": [],
   "source": [
    "def make_soup(response, url=None):\n",
    "    if isinstance(url, str):\n",
    "        response = fetch_response(url)\n",
    "    elif not (response and response.status_code == 200):\n",
    "        logger.warning(f\"Couldn't make soup with: {response}\")\n",
    "        return None\n",
    "    soup = BeautifulSoup(response.text, \"lxml\")\n",
    "    logger.info(\"Soup's ready!\")\n",
    "    return soup"
   ]
  },
  {
   "cell_type": "code",
   "execution_count": null,
   "id": "ca6fe02e-5966-47e7-a985-4d90e58ac126",
   "metadata": {
    "jupyter": {
     "source_hidden": true
    }
   },
   "outputs": [],
   "source": [
    "def extract_blocks(soup, block_selector, fields):\n",
    "    \"\"\"\n",
    "    Extract structured data blocks from soup.\n",
    "\n",
    "    :param soup: BeautifulSoup object\n",
    "    :param block_selector: CSS selector to identify each block\n",
    "    :param fields: dict of {field_name: (selector, attr)}, relative to the block\n",
    "    :return: List of dicts with extracted data\n",
    "    \"\"\"\n",
    "    if not soup or not (blocks := soup.select(block_selector)):\n",
    "        logger.info(f\"No blocks found with selector '{block_selector}'. soup: {soup}\")\n",
    "        return []\n",
    "\n",
    "    extracted_data = []\n",
    "    for block in blocks:\n",
    "        block_data = {}\n",
    "        for field_name, (selector, attr) in fields.items():\n",
    "            elements = block.select(selector)\n",
    "\n",
    "            values = []\n",
    "            for el in elements:\n",
    "                match attr:\n",
    "                    case \"text\":\n",
    "                        values.append(el.get_text(strip=True, separator=\" \"))\n",
    "                    case \"html\":\n",
    "                        values.append(str(el))\n",
    "                    case \"inner_html\":\n",
    "                        values.append(\"\".join(str(c) for c in el.contents))\n",
    "                    case _:\n",
    "                        values.append(el.get(attr, \"\"))\n",
    "            \n",
    "            block_data[field_name] = values if values else None\n",
    "        extracted_data.append(block_data)\n",
    "\n",
    "    logger.info(f\"Extracted {len(extracted_data)} blocks using '{block_selector}'\")\n",
    "    return extracted_data\n"
   ]
  },
  {
   "cell_type": "code",
   "execution_count": null,
   "id": "6001de56-62b8-45fc-940e-d76a9d5741d5",
   "metadata": {
    "jupyter": {
     "source_hidden": true
    }
   },
   "outputs": [],
   "source": [
    "def pager(base, max_pages, fetcher=None, callback=None):\n",
    "    \"\"\"\n",
    "    Iterate through paginated links starting from `base`.\n",
    "    Optionally inject:\n",
    "      - `fetcher`: custom page-fetching logic.\n",
    "      - `callback`: function to call with each (url, soup) pair.\n",
    "    \"\"\"\n",
    "\n",
    "    pages = {}\n",
    "    while fetcher and (fetched_page := fetcher(base)) and len(pages) <= max_pages:\n",
    "        next_url, page_soup = fetched_page\n",
    "        pages[next_url] = (page_soup, callback(page_soup) if callback else None)\n",
    "    \n",
    "        base = next_url\n",
    "    return pages"
   ]
  },
  {
   "cell_type": "code",
   "execution_count": null,
   "id": "e9cfb574-20f9-4384-9f91-abb2723b0618",
   "metadata": {
    "jupyter": {
     "source_hidden": true
    }
   },
   "outputs": [],
   "source": [
    "def fetch_link_in_page(base_url, selector=None, attr=\"href\"):\n",
    "    res = fetch_response(base_url)\n",
    "    soup = make_soup(res)\n",
    "\n",
    "    if not all([soup, selector]): return\n",
    "    \n",
    "    link = ((el := soup.select_one(selector))) and ((el.get(attr)) if soup else None)\n",
    "    return urljoin(base_url, link), soup if link else None"
   ]
  },
  {
   "cell_type": "markdown",
   "id": "07ec8d6d-9159-4f69-b244-7f73d5a09d67",
   "metadata": {
    "jupyter": {
     "source_hidden": true
    }
   },
   "source": [
    "I've decided to take advantage of Python modularization\n",
    "to make this notebook the testing grounds for all the tasks i set to showcase in web scaroing using he site https://books.toscrape.com\n",
    "\n",
    "the project consists of the files 🗃️\n",
    "\n",
    "\n",
    "we'll mostly be working from this notebook 📓\n",
    "\n",
    "with all of the inner code abstracted away and tucked into tiny modular .py scripts\n",
    "\n",
    "exposing only the function calls in hopes of being able to reuse the same functions but with different arguments to scrape different sites\n",
    "\n",
    "\n",
    "\n",
    "above is a minimal version of the books to scrape web site \n",
    "shown for demonstarion well be woriking to srcape components for infomation using requests and beautifulsoup\n",
    "\n",
    "the target componebt 1st wil be the asisde navlist to get the laist of book cartegories "
   ]
  },
  {
   "cell_type": "code",
   "execution_count": null,
   "id": "01bf79f0-67c2-4751-b294-6ccfb23443e1",
   "metadata": {
    "jupyter": {
     "source_hidden": true
    }
   },
   "outputs": [],
   "source": [
    "book_fields = {\n",
    "    #image element data\n",
    "    \"img_href\": (\".image_container a\", \"href\"),\n",
    "    \"img_alt\": (\".image_container a img\", \"alt\"),\n",
    "    \"img_src\": (\".image_container a img\", \"src\"),\n",
    "    # star rating\n",
    "    \"rating\": (\".star-rating\", \"class\"),\n",
    "    # title element data\n",
    "    \"book_href\": (\"h3 a\", \"href\"),\n",
    "    \"book_text\": (\"h3 a\", \"text\"),\n",
    "    # price and availability\n",
    "    \"price\": (\".price_color\", \"text\"),\n",
    "    \"availability\": (\".availability\", \"text\"),\n",
    "    }\n",
    "    # lambda (selector, attr): (_.get(attr) if (_:= book.select_one(selector)) else \"\") # to avoid NoneType has no attr x\n",
    "\n",
    "cartegory_fields = {\n",
    "    \"cartegory_href\": (\"a\", \"href\"),\n",
    "    \"cartegory_text\": (\"a\", \"text\"),    \n",
    "}\n",
    "\n",
    "# block = extract_blocks(soup, \".nav-list ul\", fields)\n",
    "# block[0]\n",
    "\n",
    "# block = extract_blocks(soup, \".product_pod\", fields)"
   ]
  },
  {
   "cell_type": "code",
   "execution_count": null,
   "id": "79884365-9a8c-4a8b-87ac-b4410991d483",
   "metadata": {
    "jupyter": {
     "source_hidden": true
    }
   },
   "outputs": [],
   "source": [
    "url = \"https://books.toscrape.com\"\n",
    "\n",
    "extract_books = partial(extract_blocks, block_selector=\".product_pod\", fields=book_fields)\n",
    "\n",
    "fetch_next = partial(fetch_link_in_page, selector=\".pager .next a\")\n",
    "\n",
    "pages = pager(url, 3, fetcher=fetch_next, callback=extract_books)"
   ]
  },
  {
   "cell_type": "code",
   "execution_count": null,
   "id": "0f0a4852-f5ae-4206-b35d-3eace5d8f1d0",
   "metadata": {
    "jupyter": {
     "source_hidden": true
    }
   },
   "outputs": [],
   "source": [
    "for page in pages.values():\n",
    "    print(page[1], end=\"\\n\\n\\n\")"
   ]
  }
 ],
 "metadata": {
  "kernelspec": {
   "display_name": "Python 3 (ipykernel)",
   "language": "python",
   "name": "python3"
  },
  "language_info": {
   "codemirror_mode": {
    "name": "ipython",
    "version": 3
   },
   "file_extension": ".py",
   "mimetype": "text/x-python",
   "name": "python",
   "nbconvert_exporter": "python",
   "pygments_lexer": "ipython3",
   "version": "3.13.2"
  },
  "widgets": {
   "application/vnd.jupyter.widget-state+json": {
    "state": {},
    "version_major": 2,
    "version_minor": 0
   }
  }
 },
 "nbformat": 4,
 "nbformat_minor": 5
}
