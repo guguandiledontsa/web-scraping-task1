{
 "cells": [
  {
   "cell_type": "markdown",
   "id": "cee7fe4d-4fe5-4f38-bf33-d8a33643ee74",
   "metadata": {
    "jupyter": {
     "source_hidden": true
    }
   },
   "source": [
    "find a way to avoid requesting the next page only to get the url of the page after it  if they are all available (next link + page 3 link) on 1st page "
   ]
  },
  {
   "cell_type": "markdown",
   "id": "b4fe1d77-bedb-4109-a2c3-c1c016b469c4",
   "metadata": {
    "jupyter": {
     "source_hidden": true
    }
   },
   "source": [
    "- imports"
   ]
  },
  {
   "cell_type": "code",
   "execution_count": 1,
   "id": "f65c2fd6-b47b-43bf-a2e5-d6fb114ec258",
   "metadata": {
    "jupyter": {
     "source_hidden": true
    }
   },
   "outputs": [],
   "source": [
    "from functools import partial\n",
    "import pandas as pd\n",
    "from pathlib import Path\n",
    "\n",
    "# from main.utils import get_logger\n",
    "# from main.scraper import (fetch_response, make_soup, extract_blocks, pager)"
   ]
  },
  {
   "cell_type": "markdown",
   "id": "f19dd0de-440b-4afd-b113-1d492373106d",
   "metadata": {
    "jupyter": {
     "source_hidden": true
    }
   },
   "source": [
    "- modules ship"
   ]
  },
  {
   "cell_type": "code",
   "execution_count": 2,
   "id": "13f06567-e710-4590-84d9-fe3e9d39ea6d",
   "metadata": {
    "jupyter": {
     "source_hidden": true
    }
   },
   "outputs": [],
   "source": [
    "import requests\n",
    "from requests.adapters import HTTPAdapter\n",
    "from bs4 import BeautifulSoup\n",
    "from urllib.parse import urljoin\n",
    "from urllib3.util.retry import Retry\n",
    "# import pandas as pd\n",
    "\n",
    "\n",
    "\n",
    "def fetch_response(url, session=None, timeout=10):\n",
    "    if not isinstance(url, str) or not url.startswith(\"http\"):\n",
    "        logger.warning(f\"Invalid URL: {url}\")\n",
    "        return None\n",
    "    session = session or requests.Session()\n",
    "\n",
    "    if not hasattr(session, \"_retry_configured\"):\n",
    "        retry_strategy = Retry(\n",
    "            total=3,\n",
    "            status_forcelist=[429, 500, 502, 503, 504],\n",
    "            allowed_methods=[\"GET\", \"HEAD\"],\n",
    "            backoff_factor=1,\n",
    "        )\n",
    "        adapter = HTTPAdapter(max_retries=retry_strategy)\n",
    "        session.mount(\"http://\", adapter)\n",
    "        session.mount(\"https://\", adapter)\n",
    "        session._retry_configured = True\n",
    "\n",
    "    headers = {\n",
    "        \"User-Agent\": \"Mozilla/5.0\",\n",
    "        'Accept-Charset': 'utf-8',\n",
    "    }\n",
    "    try:\n",
    "        response = session.get(url, headers=headers, timeout=timeout)\n",
    "        response.raise_for_status()\n",
    "        response.encoding = 'utf-8'\n",
    "        logger.info(f\"fetched: {url} [{response.status_code}]\")\n",
    "        return response\n",
    "    except requests.exceptions.HTTPError as errh:\n",
    "        logger.warning(f\"HTTP error occurred:\\n{errh}\")\n",
    "    except requests.exceptions.RequestException as err:\n",
    "        logger.warning(f\"{type(err).__name__}\\n{err}\")\n",
    "    except Exception as e:\n",
    "        logger.warning(f\"Unhandled exception:\\n{type(e).__name__}: {e}\")\n",
    "\n",
    "\n",
    "\n",
    "\n",
    "\n",
    "def make_soup(response=None, url=None):\n",
    "    if isinstance(url, str):\n",
    "        response = fetch_response(url)\n",
    "    if not (response and response.status_code == 200):\n",
    "        logger.warning(f\"Couldn't make soup with: {response}\")\n",
    "        return None\n",
    "    \n",
    "    soup = BeautifulSoup(response.text, \"lxml\")\n",
    "    return soup\n",
    "\n",
    "\n",
    "\n",
    "\n",
    "\n",
    "\n",
    "def safe_soup_select(soup, selector):\n",
    "    try:\n",
    "        return soup.select(selector)\n",
    "    except AttributeError as err:\n",
    "        logger.error(f\"{selector} {soup} returning {None}: {err}\")\n",
    "    except Exception as e:\n",
    "        logger.error(f\"Invalid CSS selector '{selector}', returning None: {e}\")\n",
    "\n",
    "    return None\n",
    "\n",
    "def extract_blocks(soup, block_selector, fields):\n",
    "    \"\"\"\n",
    "    Extract structured data blocks from soup.\n",
    "\n",
    "    :param soup: BeautifulSoup object\n",
    "    :param block_selector: CSS selector to identify each block\n",
    "    :param fields: dict of {field_name: (selector, attr, default)}\n",
    "                   - attr defaults to \"text\"\n",
    "                   - default defaults to None\n",
    "    :return: List of dicts with extracted data\n",
    "    \"\"\"\n",
    "    blocks = safe_soup_select(soup, block_selector)\n",
    "    if not blocks:\n",
    "        logger.info(f\"No blocks found with selector '{block_selector}'.\")\n",
    "        return []\n",
    "\n",
    "    extracted_data = []\n",
    "    for i, block in enumerate(blocks, start=1):\n",
    "        block_data = {}\n",
    "        for field_name, field_def in fields.items():\n",
    "            try:\n",
    "                selector, *rest = field_def\n",
    "                attr = rest[0] if len(rest) > 0 else \"text\"\n",
    "                field_default = rest[1] if len(rest) > 1 else None\n",
    "                attr = attr or \"text\"\n",
    "                \n",
    "                elements = safe_soup_select(block, selector)\n",
    "                if not elements:\n",
    "                    logger.info(f\"Invalid selector '{selector}' for field '{field_name}' or No such elements found block '{block}'\")\n",
    "                    elements = []\n",
    "\n",
    "                values = []\n",
    "                for el in elements:\n",
    "                    try:\n",
    "                        if attr == \"text\":\n",
    "                            value = el.get_text(strip=True, separator=\" \")\n",
    "                        elif attr == \"html\":\n",
    "                            value = str(el)\n",
    "                        elif attr == \"inner_html\":\n",
    "                            value = \"\".join(str(c) for c in el.contents)\n",
    "                        else:\n",
    "                            value = el.get(attr)\n",
    "\n",
    "                        if value:\n",
    "                            values.append(value)\n",
    "                    except Exception as e:\n",
    "                        logger.error(f\"Error extracting attr '{attr}' for field '{field_name}': {e}\")\n",
    "\n",
    "                block_data[field_name] = values if values else field_default\n",
    "\n",
    "            except Exception as e:\n",
    "                logger.error(f\"Unexpected error in field '{field_name}' (block {i}): {e}\")\n",
    "                block_data[field_name] = None\n",
    "\n",
    "        extracted_data.append(block_data)\n",
    "    return extracted_data\n",
    "\n",
    "\n",
    "\n",
    "\n",
    "\n",
    "def page_processor(soup, extraction_jobs):\n",
    "  return extract_multiple_blocks(soup, extraction_jobs)\n",
    "\n",
    "    \n",
    "\n",
    "\n",
    "def pager(base, next_page_selectors, max_pages=3, fetcher=make_soup, callback=page_processor, **kwargs):\n",
    "    \"\"\"\n",
    "    Iterate through paginated links starting from `base`.\n",
    "    :param callback: A function that can process a single soup object and return\n",
    "                     a dictionary of multiple data sets.\n",
    "    \"\"\"\n",
    "    pages = {}\n",
    "    counter = 1\n",
    "    current_url = base\n",
    "\n",
    "    while counter <= max_pages:\n",
    "        page_soup = fetcher(url=current_url)\n",
    "        if not page_soup:\n",
    "            break\n",
    "\n",
    "        # The callback now returns a dict of all the data from the page\n",
    "        extracted_data = callback(page_soup, **kwargs)\n",
    "        pages[current_url] = extracted_data\n",
    "\n",
    "        next_url = None\n",
    "        for block_sel, elem_sel in next_page_selectors:\n",
    "            try:\n",
    "                link_data = extract_blocks(page_soup, block_sel, {elem_sel: (elem_sel, \"href\")})\n",
    "                if link_data:\n",
    "                    link = link_data[0].get(elem_sel)\n",
    "                    if link:\n",
    "                        next_url = urljoin(current_url, link[0])\n",
    "                        break\n",
    "            except Exception as e:\n",
    "                print(f\"Failed to find next page link with selectors '{block_sel}' and '{elem_sel}': {e}\")\n",
    "        \n",
    "        if not next_url or next_url == current_url:\n",
    "            print(\"No next page link found or link is the same as current page. Stopping.\")\n",
    "            break\n",
    "        \n",
    "        current_url = next_url\n",
    "        counter += 1\n",
    "\n",
    "    return pages\n",
    "\n",
    "\n",
    "\n",
    "\n",
    "\n",
    "def extract_multiple_blocks(soup, extraction_jobs):\n",
    "    \"\"\"\n",
    "    Extracts multiple sets of structured data blocks from a single soup object.\n",
    "\n",
    "    :param soup: BeautifulSoup object\n",
    "    :param extraction_jobs: A dictionary mapping data type names to a dict\n",
    "                            containing 'block_selector' and 'fields'.\n",
    "    :return: A dictionary of lists, where each key is a data type (e.g., 'books', 'categories')\n",
    "             and the value is a list of extracted data dictionaries.\n",
    "    \"\"\"\n",
    "    if not soup:\n",
    "        logger.error(\"extract_multiple_blocks() called with no soup object.\")\n",
    "        return {}\n",
    "\n",
    "    all_extracted_data = {}\n",
    "    for job_name, job_config in extraction_jobs.items():\n",
    "        block_selector = job_config.get(\"block_selector\")\n",
    "        fields = job_config.get(\"fields\")\n",
    "\n",
    "        # Reuse the existing extract_blocks function for each job\n",
    "        extracted_data = extract_blocks(soup, block_selector, fields)\n",
    "        all_extracted_data[job_name] = extracted_data\n",
    "    \n",
    "    return all_extracted_data\n",
    "\n",
    "    \n",
    "\n",
    "\n",
    "\n",
    "\n",
    "transformer = lambda data: pd.DataFrame([\n",
    "    {key: val[0] if isinstance(val, list) and val else None for key, val in record.items()}\n",
    "    for record in data\n",
    "]) if data else None # get 0th index of all list type values make it new key value\n",
    "\n",
    "\n",
    "\n",
    "def join_page_records(scraped_data, job_name):\n",
    "    all_data = []\n",
    "    for page_url in scraped_data:\n",
    "        if job_name in scraped_data[page_url] and scraped_data[page_url][job_name]:\n",
    "            all_data.extend(scraped_data[page_url][job_name])\n",
    "    return all_data\n",
    "\n",
    "\n",
    "\n",
    "\n",
    "# --------------------------------------------------------\n",
    "\n",
    "import os\n",
    "import logging\n",
    "import shutil\n",
    "\n",
    "_logger = None\n",
    "def get_logger(name=\"books_scraper\"):\n",
    "    \"\"\"Singleton logger to be used across the project.\n",
    "    \n",
    "    This version explicitly deletes the logs directory and its contents\n",
    "    before recreating it to ensure a clean start for each program run.\n",
    "    \"\"\"\n",
    "    global _logger\n",
    "    if _logger:\n",
    "        return _logger\n",
    "\n",
    "    if os.path.exists(\"logs\"):\n",
    "        shutil.rmtree(\"logs\")\n",
    "    \n",
    "    os.makedirs(\"logs\", exist_ok=True)\n",
    "    \n",
    "    logger = logging.getLogger(name)\n",
    "    logger.setLevel(logging.INFO)\n",
    "\n",
    "    if not logger.handlers:\n",
    "        formatter = logging.Formatter(\n",
    "            \"[%(levelname)s] %(filename)s:%(lineno)d %(funcName)s() %(message)s %(asctime)s\"\n",
    "        )\n",
    "\n",
    "        file_handler = logging.FileHandler(\"logs/scraping.log\", mode=\"w\")\n",
    "        file_handler.setFormatter(formatter)\n",
    "        logger.addHandler(file_handler)\n",
    "\n",
    "        console = logging.StreamHandler()\n",
    "        console.setFormatter(formatter)\n",
    "        logger.addHandler(console)\n",
    "\n",
    "    _logger = logger\n",
    "    return logger\n",
    "\n",
    "logger = get_logger()"
   ]
  },
  {
   "cell_type": "markdown",
   "id": "ca26afb4-1c94-433b-b0c4-9b77ca016465",
   "metadata": {
    "jupyter": {
     "source_hidden": true
    }
   },
   "source": [
    "- extraction fields / miscellaneous(extras)"
   ]
  },
  {
   "cell_type": "code",
   "execution_count": 3,
   "id": "cadd1ed8-4166-43b8-b77c-e3261c0d9dfe",
   "metadata": {
    "jupyter": {
     "source_hidden": true
    }
   },
   "outputs": [],
   "source": [
    "allinone_extractions = {\n",
    "    \"laptops\": {\n",
    "        \"block_selector\": \".product-wrapper.card-body\",\n",
    "        \"fields\": {\n",
    "            \"img_alt\": (\"img\", \"alt\"),\n",
    "            \"img_src\": (\"img\", \"src\"),\n",
    "            \"price\": (\".caption span\", \"text\"),\n",
    "            \"currency\": (\".caption meta\", \"content\"),\n",
    "            \"title\": (\".caption h4 a\", \"title\"),\n",
    "            \"description\": (\".caption p.description\", \"text\"),\n",
    "            \"review-count\": (\".ratings p.review-count span\", \"text\"),\n",
    "            \"rating\": (\".ratings p\", \"data-rating\"),\n",
    "        }\n",
    "    },\n",
    "}\n",
    "\n",
    "\n",
    "\n",
    "\n",
    "all_book_extractions = {\n",
    "    \"books\": {\n",
    "        \"block_selector\": \".product_pod\",\n",
    "        \"fields\": {\n",
    "            \"img_href\": (\".image_container a\", \"href\"),\n",
    "            \"img_alt\": (\".image_container a img\", \"alt\"),\n",
    "            \"img_src\": (\".image_container a img\", \"src\"),\n",
    "            \"rating\": (\".star-rating\", \"class\"),\n",
    "            \"book_href\": (\"h3 a\", \"href\"),\n",
    "            \"book_text\": (\"h3 a\", \"text\"),\n",
    "            \"price\": (\".price_color\", \"text\"),\n",
    "            \"availability\": (\".availability\", \"text\"),\n",
    "        }\n",
    "    },\n",
    "    \"categories\": {\n",
    "        \"block_selector\": \".nav-list ul\",\n",
    "        \"fields\": {\n",
    "            \"category_href\": (\"a\", \"href\"),\n",
    "            \"category_text\": (\"a\", \"text\"),\n",
    "        }\n",
    "    }\n",
    "}\n",
    "\n",
    "rating_map = {\n",
    "    \"one\": 1,\n",
    "    \"two\": 2,\n",
    "    \"three\": 3,\n",
    "    \"four\": 4,\n",
    "    \"five\": 5\n",
    "}\n",
    "\n",
    "\n",
    "output_dir = Path(\"src/main/data\")\n",
    "output_dir.mkdir(parents=True, exist_ok=True)\n",
    "\n",
    "# lambda (selector, attr): (_.get(attr) if (_:= book.select_one(selector)) else \"\") # to avoid NoneType has no attr x"
   ]
  },
  {
   "cell_type": "markdown",
   "id": "bb1a33dd-9ca2-4d51-a0cb-4e9eaed3c23a",
   "metadata": {},
   "source": [
    "---"
   ]
  },
  {
   "cell_type": "markdown",
   "id": "a5f6db65-2085-49f4-9533-52ca1235ff43",
   "metadata": {
    "jupyter": {
     "source_hidden": true
    }
   },
   "source": [
    "#### all-in-one / books-to-scrape"
   ]
  },
  {
   "cell_type": "markdown",
   "id": "bf025db9-c633-4fcd-8fb9-94d3008c4d65",
   "metadata": {
    "jupyter": {
     "source_hidden": true
    }
   },
   "source": [
    "- requests\n",
    "- httpx"
   ]
  },
  {
   "cell_type": "markdown",
   "id": "00aff3de-5a15-427f-b8d8-fecef55263bb",
   "metadata": {
    "jupyter": {
     "source_hidden": true
    }
   },
   "source": [
    "- bs4.beutifulSoup  .select_one(\"css\")\n",
    "- selectorlax.parser HTMLParser   .css_first(\"css\")"
   ]
  },
  {
   "cell_type": "markdown",
   "id": "d3572212-3245-440b-9419-654ec9430c33",
   "metadata": {
    "jupyter": {
     "source_hidden": true
    }
   },
   "source": [
    "- pagination - soup fetch\n",
    "- common pager component types\n",
    "- - with next page button\n",
    "  - without next button\n",
    "  - - url-based (https://example.com/products?page=)\n",
    "  - infinit scroll\n",
    "  - load more button "
   ]
  },
  {
   "cell_type": "code",
   "execution_count": 4,
   "id": "4179ac1e-c533-4a25-8eb8-7e60575a981e",
   "metadata": {
    "collapsed": true,
    "jupyter": {
     "outputs_hidden": true,
     "source_hidden": true
    }
   },
   "outputs": [
    {
     "name": "stderr",
     "output_type": "stream",
     "text": [
      "[INFO] 3652031430.py:36 fetch_response() fetched: https://webscraper.io/test-sites/e-commerce/static/computers/laptops [200] 2025-08-18 15:50:37,571\n",
      "[INFO] 3652031430.py:102 extract_blocks() Invalid selector '.next' for field '.next' or No such elements found block '<li aria-disabled=\"true\" aria-label=\"« Previous\" class=\"page-item disabled\">\n",
      "<span aria-hidden=\"true\" class=\"page-link\">‹</span>\n",
      "</li>' 2025-08-18 15:50:37,822\n",
      "[INFO] 3652031430.py:102 extract_blocks() Invalid selector '.next' for field '.next' or No such elements found block '<li aria-current=\"page\" class=\"page-item active\"><span class=\"page-link\">1</span></li>' 2025-08-18 15:50:37,832\n",
      "[INFO] 3652031430.py:102 extract_blocks() Invalid selector '.next' for field '.next' or No such elements found block '<li class=\"page-item\"><a class=\"page-link\" href=\"/test-sites/e-commerce/static/computers/laptops?page=2\">2</a></li>' 2025-08-18 15:50:37,842\n",
      "[INFO] 3652031430.py:102 extract_blocks() Invalid selector '.next' for field '.next' or No such elements found block '<li class=\"page-item\"><a class=\"page-link\" href=\"/test-sites/e-commerce/static/computers/laptops?page=3\">3</a></li>' 2025-08-18 15:50:37,850\n",
      "[INFO] 3652031430.py:102 extract_blocks() Invalid selector '.next' for field '.next' or No such elements found block '<li class=\"page-item\"><a class=\"page-link\" href=\"/test-sites/e-commerce/static/computers/laptops?page=4\">4</a></li>' 2025-08-18 15:50:37,855\n",
      "[INFO] 3652031430.py:102 extract_blocks() Invalid selector '.next' for field '.next' or No such elements found block '<li class=\"page-item\"><a class=\"page-link\" href=\"/test-sites/e-commerce/static/computers/laptops?page=5\">5</a></li>' 2025-08-18 15:50:37,866\n",
      "[INFO] 3652031430.py:102 extract_blocks() Invalid selector '.next' for field '.next' or No such elements found block '<li class=\"page-item\"><a class=\"page-link\" href=\"/test-sites/e-commerce/static/computers/laptops?page=6\">6</a></li>' 2025-08-18 15:50:37,871\n",
      "[INFO] 3652031430.py:102 extract_blocks() Invalid selector '.next' for field '.next' or No such elements found block '<li class=\"page-item\"><a class=\"page-link\" href=\"/test-sites/e-commerce/static/computers/laptops?page=7\">7</a></li>' 2025-08-18 15:50:37,878\n",
      "[INFO] 3652031430.py:102 extract_blocks() Invalid selector '.next' for field '.next' or No such elements found block '<li class=\"page-item\"><a class=\"page-link\" href=\"/test-sites/e-commerce/static/computers/laptops?page=8\">8</a></li>' 2025-08-18 15:50:37,893\n",
      "[INFO] 3652031430.py:102 extract_blocks() Invalid selector '.next' for field '.next' or No such elements found block '<li class=\"page-item\"><a class=\"page-link\" href=\"/test-sites/e-commerce/static/computers/laptops?page=9\">9</a></li>' 2025-08-18 15:50:37,900\n",
      "[INFO] 3652031430.py:102 extract_blocks() Invalid selector '.next' for field '.next' or No such elements found block '<li class=\"page-item\"><a class=\"page-link\" href=\"/test-sites/e-commerce/static/computers/laptops?page=10\">10</a></li>' 2025-08-18 15:50:37,907\n",
      "[INFO] 3652031430.py:102 extract_blocks() Invalid selector '.next' for field '.next' or No such elements found block '<li aria-disabled=\"true\" class=\"page-item disabled\"><span class=\"page-link\">...</span></li>' 2025-08-18 15:50:37,916\n",
      "[INFO] 3652031430.py:102 extract_blocks() Invalid selector '.next' for field '.next' or No such elements found block '<li class=\"page-item\"><a class=\"page-link\" href=\"/test-sites/e-commerce/static/computers/laptops?page=19\">19</a></li>' 2025-08-18 15:50:37,924\n",
      "[INFO] 3652031430.py:102 extract_blocks() Invalid selector '.next' for field '.next' or No such elements found block '<li class=\"page-item\"><a class=\"page-link\" href=\"/test-sites/e-commerce/static/computers/laptops?page=20\">20</a></li>' 2025-08-18 15:50:37,944\n"
     ]
    },
    {
     "name": "stdout",
     "output_type": "stream",
     "text": [
      "No next page link found or link is the same as current page. Stopping.\n"
     ]
    }
   ],
   "source": [
    "scraped_data = pager(\n",
    "    base=\"https://webscraper.io/test-sites/e-commerce/static/computers/laptops\",\n",
    "    next_page_selectors=[(\".page-item\", \".next\")],\n",
    "    extraction_jobs=allinone_extractions\n",
    ")"
   ]
  },
  {
   "cell_type": "code",
   "execution_count": 5,
   "id": "ea6f10fc-541c-4c6c-a646-eb9b3bcac53b",
   "metadata": {
    "collapsed": true,
    "jupyter": {
     "outputs_hidden": true,
     "source_hidden": true
    }
   },
   "outputs": [
    {
     "name": "stderr",
     "output_type": "stream",
     "text": [
      "[INFO] 3652031430.py:36 fetch_response() fetched: https://webscraper.io/test-sites/e-commerce/static/phones/touch [200] 2025-08-18 15:50:41,433\n",
      "[INFO] 3652031430.py:102 extract_blocks() Invalid selector '.next' for field '.next' or No such elements found block '<li aria-disabled=\"true\" aria-label=\"« Previous\" class=\"page-item disabled\">\n",
      "<span aria-hidden=\"true\" class=\"page-link\">‹</span>\n",
      "</li>' 2025-08-18 15:50:41,656\n",
      "[INFO] 3652031430.py:102 extract_blocks() Invalid selector '.next' for field '.next' or No such elements found block '<li aria-current=\"page\" class=\"page-item active\"><span class=\"page-link\">1</span></li>' 2025-08-18 15:50:41,662\n",
      "[INFO] 3652031430.py:102 extract_blocks() Invalid selector '.next' for field '.next' or No such elements found block '<li class=\"page-item\"><a class=\"page-link\" href=\"/test-sites/e-commerce/static/phones/touch?page=2\">2</a></li>' 2025-08-18 15:50:41,676\n"
     ]
    },
    {
     "name": "stdout",
     "output_type": "stream",
     "text": [
      "No next page link found or link is the same as current page. Stopping.\n"
     ]
    }
   ],
   "source": [
    "scraped_data_1_phones = pager(\n",
    "    base=\"https://webscraper.io/test-sites/e-commerce/static/phones/touch\",\n",
    "    next_page_selectors=[(\".page-item\", \".next\")],\n",
    "    extraction_jobs=allinone_extractions\n",
    ")"
   ]
  },
  {
   "cell_type": "markdown",
   "id": "2abb7c39-76e8-4de2-b940-545802049bc5",
   "metadata": {},
   "source": [
    "---"
   ]
  },
  {
   "cell_type": "code",
   "execution_count": 6,
   "id": "f437c2b1-a7d5-4d5b-bce9-043a07d87fb0",
   "metadata": {
    "collapsed": true,
    "jupyter": {
     "outputs_hidden": true,
     "source_hidden": true
    }
   },
   "outputs": [
    {
     "name": "stderr",
     "output_type": "stream",
     "text": [
      "[INFO] 3652031430.py:36 fetch_response() fetched: https://books.toscrape.com [200] 2025-08-18 15:50:52,844\n",
      "[WARNING] 3652031430.py:41 fetch_response() ConnectTimeout\n",
      "HTTPSConnectionPool(host='books.toscrape.com', port=443): Max retries exceeded with url: /catalogue/page-2.html (Caused by ConnectTimeoutError(<urllib3.connection.HTTPSConnection object at 0x7946c96490>, 'Connection to books.toscrape.com timed out. (connect timeout=10)')) 2025-08-18 15:51:54,014\n",
      "[WARNING] 3652031430.py:53 make_soup() Couldn't make soup with: None 2025-08-18 15:51:54,018\n"
     ]
    }
   ],
   "source": [
    "scraped_data_2 = pager(\n",
    "    base=\"https://books.toscrape.com\",\n",
    "    next_page_selectors=[(\".pager .next\", \"a\")],\n",
    "    extraction_jobs=all_book_extractions\n",
    ")"
   ]
  },
  {
   "cell_type": "markdown",
   "id": "a91dcd3c-6004-466a-9418-caf1c7a2f905",
   "metadata": {},
   "source": [
    "- preprocess / orginise data\n",
    "- - join page data\n",
    "  - make data frame"
   ]
  },
  {
   "cell_type": "code",
   "execution_count": 16,
   "id": "f57c1411-9a9b-470f-9af7-309cae89c95a",
   "metadata": {},
   "outputs": [
    {
     "data": {
      "text/plain": [
       "{'https://webscraper.io/test-sites/e-commerce/static/phones/touch': {'laptops': [{'img_alt': ['item'],\n",
       "    'img_src': ['/images/test-sites/e-commerce/items/cart2.png'],\n",
       "    'price': ['$24.99'],\n",
       "    'currency': ['USD'],\n",
       "    'title': ['Nokia 123'],\n",
       "    'description': ['7 day battery'],\n",
       "    'review-count': ['11'],\n",
       "    'rating': ['3']},\n",
       "   {'img_alt': ['item'],\n",
       "    'img_src': ['/images/test-sites/e-commerce/items/cart2.png'],\n",
       "    'price': ['$57.99'],\n",
       "    'currency': ['USD'],\n",
       "    'title': ['LG Optimus'],\n",
       "    'description': ['3.2\" screen'],\n",
       "    'review-count': ['11'],\n",
       "    'rating': ['3']},\n",
       "   {'img_alt': ['item'],\n",
       "    'img_src': ['/images/test-sites/e-commerce/items/cart2.png'],\n",
       "    'price': ['$93.99'],\n",
       "    'currency': ['USD'],\n",
       "    'title': ['Samsung Galaxy'],\n",
       "    'description': ['5 mpx. Android 5.0'],\n",
       "    'review-count': ['3'],\n",
       "    'rating': ['3']},\n",
       "   {'img_alt': ['item'],\n",
       "    'img_src': ['/images/test-sites/e-commerce/items/cart2.png'],\n",
       "    'price': ['$109.99'],\n",
       "    'currency': ['USD'],\n",
       "    'title': ['Nokia X'],\n",
       "    'description': ['Andoid, Jolla dualboot'],\n",
       "    'review-count': ['4'],\n",
       "    'rating': ['4']},\n",
       "   {'img_alt': ['item'],\n",
       "    'img_src': ['/images/test-sites/e-commerce/items/cart2.png'],\n",
       "    'price': ['$118.99'],\n",
       "    'currency': ['USD'],\n",
       "    'title': ['Sony Xperia'],\n",
       "    'description': ['GPS, waterproof'],\n",
       "    'review-count': ['6'],\n",
       "    'rating': ['1']},\n",
       "   {'img_alt': ['item'],\n",
       "    'img_src': ['/images/test-sites/e-commerce/items/cart2.png'],\n",
       "    'price': ['$499.99'],\n",
       "    'currency': ['USD'],\n",
       "    'title': ['Ubuntu Edge'],\n",
       "    'description': ['Sapphire glass'],\n",
       "    'review-count': ['2'],\n",
       "    'rating': ['1']}]}}"
      ]
     },
     "execution_count": 16,
     "metadata": {},
     "output_type": "execute_result"
    }
   ],
   "source": [
    "scraped_data_1_phones"
   ]
  },
  {
   "cell_type": "code",
   "execution_count": 7,
   "id": "f4407b6e-eae3-4993-b49f-9f2130f5129a",
   "metadata": {},
   "outputs": [],
   "source": [
    "_ =join_page_records(scraped_data, 'laptops')\n",
    "df = transformer(_)"
   ]
  },
  {
   "cell_type": "code",
   "execution_count": 18,
   "id": "7517d25a-e55a-4a7b-a88d-c67d88655f9e",
   "metadata": {},
   "outputs": [],
   "source": [
    "_ =join_page_records(scraped_data_1_phones, 'laptops')\n",
    "df_phones = transformer(_)"
   ]
  },
  {
   "cell_type": "markdown",
   "id": "b9acf213-1bd2-42fd-837a-21d4d683be11",
   "metadata": {},
   "source": [
    "---"
   ]
  },
  {
   "cell_type": "code",
   "execution_count": 8,
   "id": "38bf8798-7f76-43e2-ad29-1965e15465ea",
   "metadata": {},
   "outputs": [],
   "source": [
    "_ = join_page_records(scraped_data_2, 'books')\n",
    "df_2 = transformer(_)"
   ]
  },
  {
   "cell_type": "code",
   "execution_count": 9,
   "id": "f988647c-75ab-450a-b474-32614ae97428",
   "metadata": {
    "jupyter": {
     "source_hidden": true
    }
   },
   "outputs": [],
   "source": [
    "_ = scraped_data_2['https://books.toscrape.com']['categories']\n",
    "categories_df = pd.DataFrame(_[0])"
   ]
  },
  {
   "cell_type": "markdown",
   "id": "81135e10-2520-4bb9-bbd3-50a85e79dddc",
   "metadata": {},
   "source": [
    "- transform\n",
    "- preview"
   ]
  },
  {
   "cell_type": "code",
   "execution_count": 19,
   "id": "8349744f-f078-4516-8d14-dc7683571844",
   "metadata": {},
   "outputs": [
    {
     "data": {
      "text/html": [
       "<div>\n",
       "<style scoped>\n",
       "    .dataframe tbody tr th:only-of-type {\n",
       "        vertical-align: middle;\n",
       "    }\n",
       "\n",
       "    .dataframe tbody tr th {\n",
       "        vertical-align: top;\n",
       "    }\n",
       "\n",
       "    .dataframe thead th {\n",
       "        text-align: right;\n",
       "    }\n",
       "</style>\n",
       "<table border=\"1\" class=\"dataframe\">\n",
       "  <thead>\n",
       "    <tr style=\"text-align: right;\">\n",
       "      <th></th>\n",
       "      <th>img_alt</th>\n",
       "      <th>img_src</th>\n",
       "      <th>price</th>\n",
       "      <th>currency</th>\n",
       "      <th>title</th>\n",
       "      <th>description</th>\n",
       "      <th>review-count</th>\n",
       "      <th>rating</th>\n",
       "    </tr>\n",
       "  </thead>\n",
       "  <tbody>\n",
       "    <tr>\n",
       "      <th>0</th>\n",
       "      <td>item</td>\n",
       "      <td>/images/test-sites/e-commerce/items/cart2.png</td>\n",
       "      <td>$24.99</td>\n",
       "      <td>USD</td>\n",
       "      <td>Nokia 123</td>\n",
       "      <td>7 day battery</td>\n",
       "      <td>11</td>\n",
       "      <td>3</td>\n",
       "    </tr>\n",
       "    <tr>\n",
       "      <th>1</th>\n",
       "      <td>item</td>\n",
       "      <td>/images/test-sites/e-commerce/items/cart2.png</td>\n",
       "      <td>$57.99</td>\n",
       "      <td>USD</td>\n",
       "      <td>LG Optimus</td>\n",
       "      <td>3.2\" screen</td>\n",
       "      <td>11</td>\n",
       "      <td>3</td>\n",
       "    </tr>\n",
       "    <tr>\n",
       "      <th>2</th>\n",
       "      <td>item</td>\n",
       "      <td>/images/test-sites/e-commerce/items/cart2.png</td>\n",
       "      <td>$93.99</td>\n",
       "      <td>USD</td>\n",
       "      <td>Samsung Galaxy</td>\n",
       "      <td>5 mpx. Android 5.0</td>\n",
       "      <td>3</td>\n",
       "      <td>3</td>\n",
       "    </tr>\n",
       "    <tr>\n",
       "      <th>3</th>\n",
       "      <td>item</td>\n",
       "      <td>/images/test-sites/e-commerce/items/cart2.png</td>\n",
       "      <td>$109.99</td>\n",
       "      <td>USD</td>\n",
       "      <td>Nokia X</td>\n",
       "      <td>Andoid, Jolla dualboot</td>\n",
       "      <td>4</td>\n",
       "      <td>4</td>\n",
       "    </tr>\n",
       "    <tr>\n",
       "      <th>4</th>\n",
       "      <td>item</td>\n",
       "      <td>/images/test-sites/e-commerce/items/cart2.png</td>\n",
       "      <td>$118.99</td>\n",
       "      <td>USD</td>\n",
       "      <td>Sony Xperia</td>\n",
       "      <td>GPS, waterproof</td>\n",
       "      <td>6</td>\n",
       "      <td>1</td>\n",
       "    </tr>\n",
       "  </tbody>\n",
       "</table>\n",
       "</div>"
      ],
      "text/plain": [
       "  img_alt                                        img_src    price currency  \\\n",
       "0    item  /images/test-sites/e-commerce/items/cart2.png   $24.99      USD   \n",
       "1    item  /images/test-sites/e-commerce/items/cart2.png   $57.99      USD   \n",
       "2    item  /images/test-sites/e-commerce/items/cart2.png   $93.99      USD   \n",
       "3    item  /images/test-sites/e-commerce/items/cart2.png  $109.99      USD   \n",
       "4    item  /images/test-sites/e-commerce/items/cart2.png  $118.99      USD   \n",
       "\n",
       "            title             description review-count rating  \n",
       "0       Nokia 123           7 day battery           11      3  \n",
       "1      LG Optimus             3.2\" screen           11      3  \n",
       "2  Samsung Galaxy      5 mpx. Android 5.0            3      3  \n",
       "3         Nokia X  Andoid, Jolla dualboot            4      4  \n",
       "4     Sony Xperia         GPS, waterproof            6      1  "
      ]
     },
     "execution_count": 19,
     "metadata": {},
     "output_type": "execute_result"
    }
   ],
   "source": [
    "df_phones.head()"
   ]
  },
  {
   "cell_type": "code",
   "execution_count": 10,
   "id": "dc0d39e4-5023-432c-afce-d65ebba27d11",
   "metadata": {
    "jupyter": {
     "source_hidden": true
    }
   },
   "outputs": [
    {
     "data": {
      "text/html": [
       "<div>\n",
       "<style scoped>\n",
       "    .dataframe tbody tr th:only-of-type {\n",
       "        vertical-align: middle;\n",
       "    }\n",
       "\n",
       "    .dataframe tbody tr th {\n",
       "        vertical-align: top;\n",
       "    }\n",
       "\n",
       "    .dataframe thead th {\n",
       "        text-align: right;\n",
       "    }\n",
       "</style>\n",
       "<table border=\"1\" class=\"dataframe\">\n",
       "  <thead>\n",
       "    <tr style=\"text-align: right;\">\n",
       "      <th></th>\n",
       "      <th>img_alt</th>\n",
       "      <th>img_src</th>\n",
       "      <th>price</th>\n",
       "      <th>currency</th>\n",
       "      <th>title</th>\n",
       "      <th>description</th>\n",
       "      <th>review-count</th>\n",
       "      <th>rating</th>\n",
       "    </tr>\n",
       "  </thead>\n",
       "  <tbody>\n",
       "    <tr>\n",
       "      <th>0</th>\n",
       "      <td>item</td>\n",
       "      <td>/images/test-sites/e-commerce/items/cart2.png</td>\n",
       "      <td>416.99</td>\n",
       "      <td>USD</td>\n",
       "      <td>Packard 255 G2</td>\n",
       "      <td>15.6\", AMD E2-3800 1.3GHz, 4GB, 500GB, Windows...</td>\n",
       "      <td>2</td>\n",
       "      <td>2</td>\n",
       "    </tr>\n",
       "    <tr>\n",
       "      <th>1</th>\n",
       "      <td>item</td>\n",
       "      <td>/images/test-sites/e-commerce/items/cart2.png</td>\n",
       "      <td>306.99</td>\n",
       "      <td>USD</td>\n",
       "      <td>Aspire E1-510</td>\n",
       "      <td>15.6\", Pentium N3520 2.16GHz, 4GB, 500GB, Linux</td>\n",
       "      <td>2</td>\n",
       "      <td>3</td>\n",
       "    </tr>\n",
       "    <tr>\n",
       "      <th>2</th>\n",
       "      <td>item</td>\n",
       "      <td>/images/test-sites/e-commerce/items/cart2.png</td>\n",
       "      <td>1178.99</td>\n",
       "      <td>USD</td>\n",
       "      <td>ThinkPad T540p</td>\n",
       "      <td>15.6\", Core i5-4200M, 4GB, 500GB, Win7 Pro 64bit</td>\n",
       "      <td>2</td>\n",
       "      <td>1</td>\n",
       "    </tr>\n",
       "    <tr>\n",
       "      <th>3</th>\n",
       "      <td>item</td>\n",
       "      <td>/images/test-sites/e-commerce/items/cart2.png</td>\n",
       "      <td>739.99</td>\n",
       "      <td>USD</td>\n",
       "      <td>ProBook</td>\n",
       "      <td>14\", Core i5 2.6GHz, 4GB, 500GB, Win7 Pro 64bit</td>\n",
       "      <td>8</td>\n",
       "      <td>4</td>\n",
       "    </tr>\n",
       "    <tr>\n",
       "      <th>4</th>\n",
       "      <td>item</td>\n",
       "      <td>/images/test-sites/e-commerce/items/cart2.png</td>\n",
       "      <td>1311.99</td>\n",
       "      <td>USD</td>\n",
       "      <td>ThinkPad X240</td>\n",
       "      <td>12.5\", Core i5-4300U, 8GB, 240GB SSD, Win7 Pro...</td>\n",
       "      <td>12</td>\n",
       "      <td>3</td>\n",
       "    </tr>\n",
       "  </tbody>\n",
       "</table>\n",
       "</div>"
      ],
      "text/plain": [
       "  img_alt                                        img_src    price currency  \\\n",
       "0    item  /images/test-sites/e-commerce/items/cart2.png   416.99      USD   \n",
       "1    item  /images/test-sites/e-commerce/items/cart2.png   306.99      USD   \n",
       "2    item  /images/test-sites/e-commerce/items/cart2.png  1178.99      USD   \n",
       "3    item  /images/test-sites/e-commerce/items/cart2.png   739.99      USD   \n",
       "4    item  /images/test-sites/e-commerce/items/cart2.png  1311.99      USD   \n",
       "\n",
       "            title                                        description  \\\n",
       "0  Packard 255 G2  15.6\", AMD E2-3800 1.3GHz, 4GB, 500GB, Windows...   \n",
       "1   Aspire E1-510    15.6\", Pentium N3520 2.16GHz, 4GB, 500GB, Linux   \n",
       "2  ThinkPad T540p   15.6\", Core i5-4200M, 4GB, 500GB, Win7 Pro 64bit   \n",
       "3         ProBook    14\", Core i5 2.6GHz, 4GB, 500GB, Win7 Pro 64bit   \n",
       "4   ThinkPad X240  12.5\", Core i5-4300U, 8GB, 240GB SSD, Win7 Pro...   \n",
       "\n",
       "  review-count rating  \n",
       "0            2      2  \n",
       "1            2      3  \n",
       "2            2      1  \n",
       "3            8      4  \n",
       "4           12      3  "
      ]
     },
     "execution_count": 10,
     "metadata": {},
     "output_type": "execute_result"
    }
   ],
   "source": [
    "df[\"price\"] = df[\"price\"].replace(r\"[^\\d\\.]\", \"\", regex=True).astype(float)\n",
    "df.head()"
   ]
  },
  {
   "cell_type": "markdown",
   "id": "b0c0a07f-12d5-429d-b814-bd1d7044f167",
   "metadata": {},
   "source": [
    "---"
   ]
  },
  {
   "cell_type": "code",
   "execution_count": 11,
   "id": "d665fbe9-95a4-4f86-88a7-4f044260f533",
   "metadata": {
    "jupyter": {
     "source_hidden": true
    }
   },
   "outputs": [
    {
     "data": {
      "text/html": [
       "<div>\n",
       "<style scoped>\n",
       "    .dataframe tbody tr th:only-of-type {\n",
       "        vertical-align: middle;\n",
       "    }\n",
       "\n",
       "    .dataframe tbody tr th {\n",
       "        vertical-align: top;\n",
       "    }\n",
       "\n",
       "    .dataframe thead th {\n",
       "        text-align: right;\n",
       "    }\n",
       "</style>\n",
       "<table border=\"1\" class=\"dataframe\">\n",
       "  <thead>\n",
       "    <tr style=\"text-align: right;\">\n",
       "      <th></th>\n",
       "      <th>img_href</th>\n",
       "      <th>img_alt</th>\n",
       "      <th>img_src</th>\n",
       "      <th>rating</th>\n",
       "      <th>book_href</th>\n",
       "      <th>book_text</th>\n",
       "      <th>price</th>\n",
       "      <th>availability</th>\n",
       "      <th>currency</th>\n",
       "    </tr>\n",
       "  </thead>\n",
       "  <tbody>\n",
       "    <tr>\n",
       "      <th>0</th>\n",
       "      <td>catalogue/a-light-in-the-attic_1000/index.html</td>\n",
       "      <td>A Light in the Attic</td>\n",
       "      <td>media/cache/2c/da/2cdad67c44b002e7ead0cc35693c...</td>\n",
       "      <td>3</td>\n",
       "      <td>catalogue/a-light-in-the-attic_1000/index.html</td>\n",
       "      <td>A Light in the ...</td>\n",
       "      <td>51.77</td>\n",
       "      <td>In stock</td>\n",
       "      <td>£</td>\n",
       "    </tr>\n",
       "    <tr>\n",
       "      <th>1</th>\n",
       "      <td>catalogue/tipping-the-velvet_999/index.html</td>\n",
       "      <td>Tipping the Velvet</td>\n",
       "      <td>media/cache/26/0c/260c6ae16bce31c8f8c95daddd9f...</td>\n",
       "      <td>1</td>\n",
       "      <td>catalogue/tipping-the-velvet_999/index.html</td>\n",
       "      <td>Tipping the Velvet</td>\n",
       "      <td>53.74</td>\n",
       "      <td>In stock</td>\n",
       "      <td>£</td>\n",
       "    </tr>\n",
       "    <tr>\n",
       "      <th>2</th>\n",
       "      <td>catalogue/soumission_998/index.html</td>\n",
       "      <td>Soumission</td>\n",
       "      <td>media/cache/3e/ef/3eef99c9d9adef34639f51066202...</td>\n",
       "      <td>1</td>\n",
       "      <td>catalogue/soumission_998/index.html</td>\n",
       "      <td>Soumission</td>\n",
       "      <td>50.10</td>\n",
       "      <td>In stock</td>\n",
       "      <td>£</td>\n",
       "    </tr>\n",
       "    <tr>\n",
       "      <th>3</th>\n",
       "      <td>catalogue/sharp-objects_997/index.html</td>\n",
       "      <td>Sharp Objects</td>\n",
       "      <td>media/cache/32/51/3251cf3a3412f53f339e42cac213...</td>\n",
       "      <td>4</td>\n",
       "      <td>catalogue/sharp-objects_997/index.html</td>\n",
       "      <td>Sharp Objects</td>\n",
       "      <td>47.82</td>\n",
       "      <td>In stock</td>\n",
       "      <td>£</td>\n",
       "    </tr>\n",
       "    <tr>\n",
       "      <th>4</th>\n",
       "      <td>catalogue/sapiens-a-brief-history-of-humankind...</td>\n",
       "      <td>Sapiens: A Brief History of Humankind</td>\n",
       "      <td>media/cache/be/a5/bea5697f2534a2f86a3ef27b5a8c...</td>\n",
       "      <td>5</td>\n",
       "      <td>catalogue/sapiens-a-brief-history-of-humankind...</td>\n",
       "      <td>Sapiens: A Brief History ...</td>\n",
       "      <td>54.23</td>\n",
       "      <td>In stock</td>\n",
       "      <td>£</td>\n",
       "    </tr>\n",
       "  </tbody>\n",
       "</table>\n",
       "</div>"
      ],
      "text/plain": [
       "                                            img_href  \\\n",
       "0     catalogue/a-light-in-the-attic_1000/index.html   \n",
       "1        catalogue/tipping-the-velvet_999/index.html   \n",
       "2                catalogue/soumission_998/index.html   \n",
       "3             catalogue/sharp-objects_997/index.html   \n",
       "4  catalogue/sapiens-a-brief-history-of-humankind...   \n",
       "\n",
       "                                 img_alt  \\\n",
       "0                   A Light in the Attic   \n",
       "1                     Tipping the Velvet   \n",
       "2                             Soumission   \n",
       "3                          Sharp Objects   \n",
       "4  Sapiens: A Brief History of Humankind   \n",
       "\n",
       "                                             img_src  rating  \\\n",
       "0  media/cache/2c/da/2cdad67c44b002e7ead0cc35693c...       3   \n",
       "1  media/cache/26/0c/260c6ae16bce31c8f8c95daddd9f...       1   \n",
       "2  media/cache/3e/ef/3eef99c9d9adef34639f51066202...       1   \n",
       "3  media/cache/32/51/3251cf3a3412f53f339e42cac213...       4   \n",
       "4  media/cache/be/a5/bea5697f2534a2f86a3ef27b5a8c...       5   \n",
       "\n",
       "                                           book_href  \\\n",
       "0     catalogue/a-light-in-the-attic_1000/index.html   \n",
       "1        catalogue/tipping-the-velvet_999/index.html   \n",
       "2                catalogue/soumission_998/index.html   \n",
       "3             catalogue/sharp-objects_997/index.html   \n",
       "4  catalogue/sapiens-a-brief-history-of-humankind...   \n",
       "\n",
       "                      book_text  price availability currency  \n",
       "0            A Light in the ...  51.77     In stock        £  \n",
       "1            Tipping the Velvet  53.74     In stock        £  \n",
       "2                    Soumission  50.10     In stock        £  \n",
       "3                 Sharp Objects  47.82     In stock        £  \n",
       "4  Sapiens: A Brief History ...  54.23     In stock        £  "
      ]
     },
     "execution_count": 11,
     "metadata": {},
     "output_type": "execute_result"
    }
   ],
   "source": [
    "df_2[\"rating\"] = df_2[\"rating\"].apply(\n",
    "    lambda tags: rating_map[_[0]] if ( _ := list(filter(lambda tag: tag in rating_map, map(str.lower, tags))) ) else None\n",
    ")\n",
    "\n",
    "df_2[\"currency\"] = df_2[\"price\"].str.extract(r\"(^\\D)\")\n",
    "df_2[\"price\"] = df_2[\"price\"].replace(r\"[^\\d\\.]\", \"\", regex=True).astype(float)\n",
    "\n",
    "df_2.head()"
   ]
  },
  {
   "cell_type": "code",
   "execution_count": 12,
   "id": "1e3645fe-58cb-4950-8d21-5ab7e82c9535",
   "metadata": {
    "jupyter": {
     "source_hidden": true
    }
   },
   "outputs": [
    {
     "data": {
      "text/html": [
       "<div>\n",
       "<style scoped>\n",
       "    .dataframe tbody tr th:only-of-type {\n",
       "        vertical-align: middle;\n",
       "    }\n",
       "\n",
       "    .dataframe tbody tr th {\n",
       "        vertical-align: top;\n",
       "    }\n",
       "\n",
       "    .dataframe thead th {\n",
       "        text-align: right;\n",
       "    }\n",
       "</style>\n",
       "<table border=\"1\" class=\"dataframe\">\n",
       "  <thead>\n",
       "    <tr style=\"text-align: right;\">\n",
       "      <th></th>\n",
       "      <th>category_href</th>\n",
       "      <th>category_text</th>\n",
       "    </tr>\n",
       "  </thead>\n",
       "  <tbody>\n",
       "    <tr>\n",
       "      <th>0</th>\n",
       "      <td>catalogue/category/books/travel_2/index.html</td>\n",
       "      <td>Travel</td>\n",
       "    </tr>\n",
       "    <tr>\n",
       "      <th>1</th>\n",
       "      <td>catalogue/category/books/mystery_3/index.html</td>\n",
       "      <td>Mystery</td>\n",
       "    </tr>\n",
       "    <tr>\n",
       "      <th>2</th>\n",
       "      <td>catalogue/category/books/historical-fiction_4/...</td>\n",
       "      <td>Historical Fiction</td>\n",
       "    </tr>\n",
       "    <tr>\n",
       "      <th>3</th>\n",
       "      <td>catalogue/category/books/sequential-art_5/inde...</td>\n",
       "      <td>Sequential Art</td>\n",
       "    </tr>\n",
       "    <tr>\n",
       "      <th>4</th>\n",
       "      <td>catalogue/category/books/classics_6/index.html</td>\n",
       "      <td>Classics</td>\n",
       "    </tr>\n",
       "  </tbody>\n",
       "</table>\n",
       "</div>"
      ],
      "text/plain": [
       "                                       category_href       category_text\n",
       "0       catalogue/category/books/travel_2/index.html              Travel\n",
       "1      catalogue/category/books/mystery_3/index.html             Mystery\n",
       "2  catalogue/category/books/historical-fiction_4/...  Historical Fiction\n",
       "3  catalogue/category/books/sequential-art_5/inde...      Sequential Art\n",
       "4     catalogue/category/books/classics_6/index.html            Classics"
      ]
     },
     "execution_count": 12,
     "metadata": {},
     "output_type": "execute_result"
    }
   ],
   "source": [
    "categories_df.head()"
   ]
  },
  {
   "cell_type": "markdown",
   "id": "7f1cac45-fa20-4c9d-89c4-a20abf173f82",
   "metadata": {},
   "source": [
    "- save"
   ]
  },
  {
   "cell_type": "code",
   "execution_count": 21,
   "id": "16f897a1-8ccb-4f0d-a545-534771a4b698",
   "metadata": {},
   "outputs": [],
   "source": [
    "df_phones.to_csv(output_dir/\"phones_allinone.csv\", index=False, encoding=\"utf-8\")"
   ]
  },
  {
   "cell_type": "code",
   "execution_count": 13,
   "id": "a3a297e5-1f97-43d0-8784-44e5ad5e066f",
   "metadata": {},
   "outputs": [],
   "source": [
    "df.to_csv(output_dir/\"laptops_allinone.csv\", index=False, encoding=\"utf-8\")"
   ]
  },
  {
   "cell_type": "markdown",
   "id": "8368b761-3bea-4a8c-9aa9-9477387308cf",
   "metadata": {},
   "source": [
    "---"
   ]
  },
  {
   "cell_type": "code",
   "execution_count": 14,
   "id": "eadd3270-1818-4646-b1c6-a5cccf062031",
   "metadata": {
    "jupyter": {
     "source_hidden": true
    }
   },
   "outputs": [],
   "source": [
    "df_2.to_csv(output_dir/\"books_bookstoscrape.csv\", index=False, encoding=\"utf-8\")"
   ]
  },
  {
   "cell_type": "code",
   "execution_count": 15,
   "id": "c1c2a15f-6797-4bb2-b08b-608cc6aa91c2",
   "metadata": {
    "jupyter": {
     "source_hidden": true
    }
   },
   "outputs": [],
   "source": [
    "categories_df.to_csv(output_dir/\"categories_bookstoscrape.csv\", sep=\";\", index=False, encoding=\"utf-8\")"
   ]
  }
 ],
 "metadata": {
  "kernelspec": {
   "display_name": "Python 3 (ipykernel)",
   "language": "python",
   "name": "python3"
  },
  "language_info": {
   "codemirror_mode": {
    "name": "ipython",
    "version": 3
   },
   "file_extension": ".py",
   "mimetype": "text/x-python",
   "name": "python",
   "nbconvert_exporter": "python",
   "pygments_lexer": "ipython3",
   "version": "3.13.2"
  },
  "widgets": {
   "application/vnd.jupyter.widget-state+json": {
    "state": {},
    "version_major": 2,
    "version_minor": 0
   }
  }
 },
 "nbformat": 4,
 "nbformat_minor": 5
}
