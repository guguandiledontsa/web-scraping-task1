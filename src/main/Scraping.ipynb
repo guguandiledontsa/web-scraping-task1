{
 "cells": [
  {
   "cell_type": "code",
   "execution_count": 1,
   "id": "2e8ce745-d4f0-479f-b9d5-f4227a3aa4a2",
   "metadata": {},
   "outputs": [],
   "source": [
    "from bs4 import BeautifulSoup\n",
    "import requests"
   ]
  },
  {
   "cell_type": "code",
   "execution_count": 2,
   "id": "cd5b8ebd-bf6b-4d66-b0cb-2710a346c45d",
   "metadata": {},
   "outputs": [],
   "source": [
    "def fetch_response(url, session=requests.Session()):\n",
    "    try:\n",
    "        response = session.get(url, timeout=10)\n",
    "        response.raise_for_status()\n",
    "        print(f\"fetched: {url}\")\n",
    "        return response\n",
    "    except requests.exceptions.HTTPError as errh:\n",
    "        print(\"HTTP error occurred:\\n\", errh)\n",
    "    except requests.exceptions.RequestException as err:\n",
    "        print(\"Unexpected request error:\\n\", err)\n",
    "    except Exception as e:\n",
    "        print(f\"Unhandled exception:\\n{type(e).__name__}: {e}\")"
   ]
  },
  {
   "cell_type": "code",
   "execution_count": 3,
   "id": "68985448-1ffa-4ad7-b2f2-c37d787f16ff",
   "metadata": {},
   "outputs": [],
   "source": [
    "def make_soup(response):\n",
    "    if not (response and response.status_code == 200):\n",
    "        print(\"couldn't make soup with:\", response)\n",
    "        return\n",
    "    html = response.text\n",
    "    soup = BeautifulSoup(html, \"lxml\")\n",
    "    print(\"soup's ready!\")\n",
    "    return soup"
   ]
  },
  {
   "cell_type": "code",
   "execution_count": 4,
   "id": "c42f4bc1-751d-42b1-8bd3-d14ce40db66b",
   "metadata": {},
   "outputs": [],
   "source": [
    "def extract_all_books_data(soup):\n",
    "    if not soup or not (books := soup.select(\"article.product_pod\")):\n",
    "        print(\"soup had books data\")\n",
    "        return\n",
    "        \n",
    "    extracted_data = []\n",
    "    # lambda (selector, attr): (_.get(attr) if (_:= book.select_one(selector)) else \"\") # to avoid NoneType has no attr x\n",
    "    for book in books:\n",
    "        data = {\n",
    "            #image element data\n",
    "            \"image_href\": book.select_one(\".image_container a\").get(\"href\"),  # better to fail fast on no container w/ a\n",
    "            \"image_alt\": book.select_one(\".image_container a\").img.get(\"alt\"), # reach inside <a> to find <img>\n",
    "            \"image_src\": book.select_one(\".image_container a\").img.get(\"src\"),\n",
    "            \n",
    "            # star rating\n",
    "            \"star_rating\": [i for i in book.select_one(\".star-rating\").get(\"class\") if i != \"star-rating\"][0],    # from list of classes on attr filter out star-rating assume index 0 is the rating \n",
    "\n",
    "            # title element data\n",
    "            \"title_href\": book.select_one(\"h3 a\").get(\"href\"),\n",
    "            \"title_text\": book.select_one(\"h3 a\").get(\"title\"),    #.get_text()?\n",
    "            \n",
    "            # price and availability\n",
    "            \"price\": book.select_one(\".product_price\").select_one(\".price_color\").get_text(strip=True),\n",
    "            \"availability\": book.select_one(\".product_price\").select_one(\".availability\").get_text(strip=True),\n",
    "        }\n",
    "        extracted_data.append(data)\n",
    "    print(f\"got {len(extracted_data)} books\")\n",
    "    return extracted_data"
   ]
  },
  {
   "cell_type": "code",
   "execution_count": 5,
   "id": "c147d021-24eb-44ee-b325-f88331f84dd3",
   "metadata": {},
   "outputs": [],
   "source": [
    "__ = lambda _: [i for i in dir(_) if not i.startswith(\"_\")]"
   ]
  },
  {
   "cell_type": "code",
   "execution_count": 6,
   "id": "9e279615-0f07-4999-aae3-f902df1cee20",
   "metadata": {},
   "outputs": [],
   "source": [
    "# if __name__ == \"__main__\":"
   ]
  },
  {
   "cell_type": "code",
   "execution_count": 7,
   "id": "bde811e8-697a-4a14-8311-49c87588c77e",
   "metadata": {},
   "outputs": [],
   "source": [
    "url = \"https://books.toscrape.com\""
   ]
  },
  {
   "cell_type": "code",
   "execution_count": 8,
   "id": "5f438722-5018-45e6-826a-a3b7830c9552",
   "metadata": {},
   "outputs": [
    {
     "name": "stdout",
     "output_type": "stream",
     "text": [
      "fetched: https://books.toscrape.com\n"
     ]
    }
   ],
   "source": [
    "response = fetch_response(url)"
   ]
  },
  {
   "cell_type": "code",
   "execution_count": 9,
   "id": "4799651f-ce31-4a43-933c-9130427fcb8f",
   "metadata": {},
   "outputs": [],
   "source": [
    "html = \"\"\"\n",
    "<article class=\"product_pod\">\n",
    "  <div class=\"image_container\">\n",
    "    <a href=\"catalogue/a-light-in-the-attic_1000/index.html\"><img alt=\"A Light in the Attic\" class=\"thumbnail\" src=\"media/cache/2c/da/2cdad67c44b002e7ead0cc35693c0e8b.jpg\" /></a>\n",
    "  </div>\n",
    "  <p class=\"star-rating Three\">\n",
    "    <i class=\"icon-star\"></i>\n",
    "    <i class=\"icon-star\"></i>\n",
    "    <i class=\"icon-star\"></i>\n",
    "    <i class=\"icon-star\"></i>\n",
    "    <i class=\"icon-star\"></i>\n",
    "  </p>\n",
    "  <h3><a href=\"catalogue/a-light-in-the-attic_1000/index.html\" title=\"A Light in the Attic\">A Light in the ...</a></h3>\n",
    "  <div class=\"product_price\">\n",
    "    <p class=\"price_color\">Â£51.77</p>\n",
    "    <p class=\"instock availability\">\n",
    "      <i class=\"icon-ok\"></i>\n",
    "      \n",
    "       In stock\n",
    "       \n",
    "    </p>\n",
    "    <form>\n",
    "      <button class=\"btn btn-primary btn-block\" data-loading-text=\"Adding...\" type=\"submit\">Add to basket</button>\n",
    "    </form>\n",
    "  </div>\n",
    "</article>\n",
    "\"\"\"\n",
    "soup = BeautifulSoup(html, \"lxml\")    # for offline"
   ]
  },
  {
   "cell_type": "code",
   "execution_count": 10,
   "id": "dff771ff-e6f7-483e-b762-0011da6481ec",
   "metadata": {},
   "outputs": [
    {
     "name": "stdout",
     "output_type": "stream",
     "text": [
      "got 1 books\n"
     ]
    },
    {
     "data": {
      "text/plain": [
       "[{'image_href': 'catalogue/a-light-in-the-attic_1000/index.html',\n",
       "  'image_alt': 'A Light in the Attic',\n",
       "  'image_src': 'media/cache/2c/da/2cdad67c44b002e7ead0cc35693c0e8b.jpg',\n",
       "  'star_rating': 'Three',\n",
       "  'title_href': 'catalogue/a-light-in-the-attic_1000/index.html',\n",
       "  'title_text': 'A Light in the Attic',\n",
       "  'price': 'Â£51.77',\n",
       "  'availability': 'In stock'}]"
      ]
     },
     "execution_count": 10,
     "metadata": {},
     "output_type": "execute_result"
    }
   ],
   "source": [
    "books = extract_all_books_data(soup)\n",
    "books"
   ]
  },
  {
   "cell_type": "code",
   "execution_count": 11,
   "id": "6ddc968f-41e4-4962-8493-580948882714",
   "metadata": {},
   "outputs": [
    {
     "name": "stdout",
     "output_type": "stream",
     "text": [
      "soup's ready!\n"
     ]
    }
   ],
   "source": [
    "soup = make_soup(response)"
   ]
  },
  {
   "cell_type": "code",
   "execution_count": 12,
   "id": "294179e7-d420-4d6f-bb11-57bd734cd6f0",
   "metadata": {},
   "outputs": [
    {
     "name": "stdout",
     "output_type": "stream",
     "text": [
      "got 20 books\n"
     ]
    },
    {
     "data": {
      "text/plain": [
       "[{'image_href': 'catalogue/a-light-in-the-attic_1000/index.html',\n",
       "  'image_alt': 'A Light in the Attic',\n",
       "  'image_src': 'media/cache/2c/da/2cdad67c44b002e7ead0cc35693c0e8b.jpg',\n",
       "  'star_rating': 'Three',\n",
       "  'title_href': 'catalogue/a-light-in-the-attic_1000/index.html',\n",
       "  'title_text': 'A Light in the Attic',\n",
       "  'price': 'Â£51.77',\n",
       "  'availability': 'In stock'},\n",
       " {'image_href': 'catalogue/tipping-the-velvet_999/index.html',\n",
       "  'image_alt': 'Tipping the Velvet',\n",
       "  'image_src': 'media/cache/26/0c/260c6ae16bce31c8f8c95daddd9f4a1c.jpg',\n",
       "  'star_rating': 'One',\n",
       "  'title_href': 'catalogue/tipping-the-velvet_999/index.html',\n",
       "  'title_text': 'Tipping the Velvet',\n",
       "  'price': 'Â£53.74',\n",
       "  'availability': 'In stock'},\n",
       " {'image_href': 'catalogue/soumission_998/index.html',\n",
       "  'image_alt': 'Soumission',\n",
       "  'image_src': 'media/cache/3e/ef/3eef99c9d9adef34639f510662022830.jpg',\n",
       "  'star_rating': 'One',\n",
       "  'title_href': 'catalogue/soumission_998/index.html',\n",
       "  'title_text': 'Soumission',\n",
       "  'price': 'Â£50.10',\n",
       "  'availability': 'In stock'},\n",
       " {'image_href': 'catalogue/sharp-objects_997/index.html',\n",
       "  'image_alt': 'Sharp Objects',\n",
       "  'image_src': 'media/cache/32/51/3251cf3a3412f53f339e42cac2134093.jpg',\n",
       "  'star_rating': 'Four',\n",
       "  'title_href': 'catalogue/sharp-objects_997/index.html',\n",
       "  'title_text': 'Sharp Objects',\n",
       "  'price': 'Â£47.82',\n",
       "  'availability': 'In stock'},\n",
       " {'image_href': 'catalogue/sapiens-a-brief-history-of-humankind_996/index.html',\n",
       "  'image_alt': 'Sapiens: A Brief History of Humankind',\n",
       "  'image_src': 'media/cache/be/a5/bea5697f2534a2f86a3ef27b5a8c12a6.jpg',\n",
       "  'star_rating': 'Five',\n",
       "  'title_href': 'catalogue/sapiens-a-brief-history-of-humankind_996/index.html',\n",
       "  'title_text': 'Sapiens: A Brief History of Humankind',\n",
       "  'price': 'Â£54.23',\n",
       "  'availability': 'In stock'},\n",
       " {'image_href': 'catalogue/the-requiem-red_995/index.html',\n",
       "  'image_alt': 'The Requiem Red',\n",
       "  'image_src': 'media/cache/68/33/68339b4c9bc034267e1da611ab3b34f8.jpg',\n",
       "  'star_rating': 'One',\n",
       "  'title_href': 'catalogue/the-requiem-red_995/index.html',\n",
       "  'title_text': 'The Requiem Red',\n",
       "  'price': 'Â£22.65',\n",
       "  'availability': 'In stock'},\n",
       " {'image_href': 'catalogue/the-dirty-little-secrets-of-getting-your-dream-job_994/index.html',\n",
       "  'image_alt': 'The Dirty Little Secrets of Getting Your Dream Job',\n",
       "  'image_src': 'media/cache/92/27/92274a95b7c251fea59a2b8a78275ab4.jpg',\n",
       "  'star_rating': 'Four',\n",
       "  'title_href': 'catalogue/the-dirty-little-secrets-of-getting-your-dream-job_994/index.html',\n",
       "  'title_text': 'The Dirty Little Secrets of Getting Your Dream Job',\n",
       "  'price': 'Â£33.34',\n",
       "  'availability': 'In stock'},\n",
       " {'image_href': 'catalogue/the-coming-woman-a-novel-based-on-the-life-of-the-infamous-feminist-victoria-woodhull_993/index.html',\n",
       "  'image_alt': 'The Coming Woman: A Novel Based on the Life of the Infamous Feminist, Victoria Woodhull',\n",
       "  'image_src': 'media/cache/3d/54/3d54940e57e662c4dd1f3ff00c78cc64.jpg',\n",
       "  'star_rating': 'Three',\n",
       "  'title_href': 'catalogue/the-coming-woman-a-novel-based-on-the-life-of-the-infamous-feminist-victoria-woodhull_993/index.html',\n",
       "  'title_text': 'The Coming Woman: A Novel Based on the Life of the Infamous Feminist, Victoria Woodhull',\n",
       "  'price': 'Â£17.93',\n",
       "  'availability': 'In stock'},\n",
       " {'image_href': 'catalogue/the-boys-in-the-boat-nine-americans-and-their-epic-quest-for-gold-at-the-1936-berlin-olympics_992/index.html',\n",
       "  'image_alt': 'The Boys in the Boat: Nine Americans and Their Epic Quest for Gold at the 1936 Berlin Olympics',\n",
       "  'image_src': 'media/cache/66/88/66883b91f6804b2323c8369331cb7dd1.jpg',\n",
       "  'star_rating': 'Four',\n",
       "  'title_href': 'catalogue/the-boys-in-the-boat-nine-americans-and-their-epic-quest-for-gold-at-the-1936-berlin-olympics_992/index.html',\n",
       "  'title_text': 'The Boys in the Boat: Nine Americans and Their Epic Quest for Gold at the 1936 Berlin Olympics',\n",
       "  'price': 'Â£22.60',\n",
       "  'availability': 'In stock'},\n",
       " {'image_href': 'catalogue/the-black-maria_991/index.html',\n",
       "  'image_alt': 'The Black Maria',\n",
       "  'image_src': 'media/cache/58/46/5846057e28022268153beff6d352b06c.jpg',\n",
       "  'star_rating': 'One',\n",
       "  'title_href': 'catalogue/the-black-maria_991/index.html',\n",
       "  'title_text': 'The Black Maria',\n",
       "  'price': 'Â£52.15',\n",
       "  'availability': 'In stock'},\n",
       " {'image_href': 'catalogue/starving-hearts-triangular-trade-trilogy-1_990/index.html',\n",
       "  'image_alt': 'Starving Hearts (Triangular Trade Trilogy, #1)',\n",
       "  'image_src': 'media/cache/be/f4/bef44da28c98f905a3ebec0b87be8530.jpg',\n",
       "  'star_rating': 'Two',\n",
       "  'title_href': 'catalogue/starving-hearts-triangular-trade-trilogy-1_990/index.html',\n",
       "  'title_text': 'Starving Hearts (Triangular Trade Trilogy, #1)',\n",
       "  'price': 'Â£13.99',\n",
       "  'availability': 'In stock'},\n",
       " {'image_href': 'catalogue/shakespeares-sonnets_989/index.html',\n",
       "  'image_alt': \"Shakespeare's Sonnets\",\n",
       "  'image_src': 'media/cache/10/48/1048f63d3b5061cd2f424d20b3f9b666.jpg',\n",
       "  'star_rating': 'Four',\n",
       "  'title_href': 'catalogue/shakespeares-sonnets_989/index.html',\n",
       "  'title_text': \"Shakespeare's Sonnets\",\n",
       "  'price': 'Â£20.66',\n",
       "  'availability': 'In stock'},\n",
       " {'image_href': 'catalogue/set-me-free_988/index.html',\n",
       "  'image_alt': 'Set Me Free',\n",
       "  'image_src': 'media/cache/5b/88/5b88c52633f53cacf162c15f4f823153.jpg',\n",
       "  'star_rating': 'Five',\n",
       "  'title_href': 'catalogue/set-me-free_988/index.html',\n",
       "  'title_text': 'Set Me Free',\n",
       "  'price': 'Â£17.46',\n",
       "  'availability': 'In stock'},\n",
       " {'image_href': 'catalogue/scott-pilgrims-precious-little-life-scott-pilgrim-1_987/index.html',\n",
       "  'image_alt': \"Scott Pilgrim's Precious Little Life (Scott Pilgrim #1)\",\n",
       "  'image_src': 'media/cache/94/b1/94b1b8b244bce9677c2f29ccc890d4d2.jpg',\n",
       "  'star_rating': 'Five',\n",
       "  'title_href': 'catalogue/scott-pilgrims-precious-little-life-scott-pilgrim-1_987/index.html',\n",
       "  'title_text': \"Scott Pilgrim's Precious Little Life (Scott Pilgrim #1)\",\n",
       "  'price': 'Â£52.29',\n",
       "  'availability': 'In stock'},\n",
       " {'image_href': 'catalogue/rip-it-up-and-start-again_986/index.html',\n",
       "  'image_alt': 'Rip it Up and Start Again',\n",
       "  'image_src': 'media/cache/81/c4/81c4a973364e17d01f217e1188253d5e.jpg',\n",
       "  'star_rating': 'Five',\n",
       "  'title_href': 'catalogue/rip-it-up-and-start-again_986/index.html',\n",
       "  'title_text': 'Rip it Up and Start Again',\n",
       "  'price': 'Â£35.02',\n",
       "  'availability': 'In stock'},\n",
       " {'image_href': 'catalogue/our-band-could-be-your-life-scenes-from-the-american-indie-underground-1981-1991_985/index.html',\n",
       "  'image_alt': 'Our Band Could Be Your Life: Scenes from the American Indie Underground, 1981-1991',\n",
       "  'image_src': 'media/cache/54/60/54607fe8945897cdcced0044103b10b6.jpg',\n",
       "  'star_rating': 'Three',\n",
       "  'title_href': 'catalogue/our-band-could-be-your-life-scenes-from-the-american-indie-underground-1981-1991_985/index.html',\n",
       "  'title_text': 'Our Band Could Be Your Life: Scenes from the American Indie Underground, 1981-1991',\n",
       "  'price': 'Â£57.25',\n",
       "  'availability': 'In stock'},\n",
       " {'image_href': 'catalogue/olio_984/index.html',\n",
       "  'image_alt': 'Olio',\n",
       "  'image_src': 'media/cache/55/33/553310a7162dfbc2c6d19a84da0df9e1.jpg',\n",
       "  'star_rating': 'One',\n",
       "  'title_href': 'catalogue/olio_984/index.html',\n",
       "  'title_text': 'Olio',\n",
       "  'price': 'Â£23.88',\n",
       "  'availability': 'In stock'},\n",
       " {'image_href': 'catalogue/mesaerion-the-best-science-fiction-stories-1800-1849_983/index.html',\n",
       "  'image_alt': 'Mesaerion: The Best Science Fiction Stories 1800-1849',\n",
       "  'image_src': 'media/cache/09/a3/09a3aef48557576e1a85ba7efea8ecb7.jpg',\n",
       "  'star_rating': 'One',\n",
       "  'title_href': 'catalogue/mesaerion-the-best-science-fiction-stories-1800-1849_983/index.html',\n",
       "  'title_text': 'Mesaerion: The Best Science Fiction Stories 1800-1849',\n",
       "  'price': 'Â£37.59',\n",
       "  'availability': 'In stock'},\n",
       " {'image_href': 'catalogue/libertarianism-for-beginners_982/index.html',\n",
       "  'image_alt': 'Libertarianism for Beginners',\n",
       "  'image_src': 'media/cache/0b/bc/0bbcd0a6f4bcd81ccb1049a52736406e.jpg',\n",
       "  'star_rating': 'Two',\n",
       "  'title_href': 'catalogue/libertarianism-for-beginners_982/index.html',\n",
       "  'title_text': 'Libertarianism for Beginners',\n",
       "  'price': 'Â£51.33',\n",
       "  'availability': 'In stock'},\n",
       " {'image_href': 'catalogue/its-only-the-himalayas_981/index.html',\n",
       "  'image_alt': \"It's Only the Himalayas\",\n",
       "  'image_src': 'media/cache/27/a5/27a53d0bb95bdd88288eaf66c9230d7e.jpg',\n",
       "  'star_rating': 'Two',\n",
       "  'title_href': 'catalogue/its-only-the-himalayas_981/index.html',\n",
       "  'title_text': \"It's Only the Himalayas\",\n",
       "  'price': 'Â£45.17',\n",
       "  'availability': 'In stock'}]"
      ]
     },
     "execution_count": 12,
     "metadata": {},
     "output_type": "execute_result"
    }
   ],
   "source": [
    "books = extract_all_books_data(soup)\n",
    "books"
   ]
  }
 ],
 "metadata": {
  "kernelspec": {
   "display_name": "Python 3 (ipykernel)",
   "language": "python",
   "name": "python3"
  },
  "language_info": {
   "codemirror_mode": {
    "name": "ipython",
    "version": 3
   },
   "file_extension": ".py",
   "mimetype": "text/x-python",
   "name": "python",
   "nbconvert_exporter": "python",
   "pygments_lexer": "ipython3",
   "version": "3.13.2"
  },
  "widgets": {
   "application/vnd.jupyter.widget-state+json": {
    "state": {},
    "version_major": 2,
    "version_minor": 0
   }
  }
 },
 "nbformat": 4,
 "nbformat_minor": 5
}
