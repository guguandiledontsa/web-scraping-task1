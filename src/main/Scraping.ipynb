{
 "cells": [
  {
   "cell_type": "code",
   "execution_count": 1,
   "id": "2e8ce745-d4f0-479f-b9d5-f4227a3aa4a2",
   "metadata": {
    "jupyter": {
     "source_hidden": true
    }
   },
   "outputs": [],
   "source": [
    "from bs4 import BeautifulSoup\n",
    "import requests\n",
    "from urllib.parse import urljoin"
   ]
  },
  {
   "cell_type": "code",
   "execution_count": null,
   "id": "232f94f2-9759-403a-98bd-34524b689c13",
   "metadata": {
    "jupyter": {
     "source_hidden": true
    }
   },
   "outputs": [],
   "source": [
    "\n",
    "def demo_urljoin_cases():\n",
    "    cases = [\n",
    "        # Basic relative file in same directory\n",
    "        (\"https://example.com/articles/page-1.html\", \"page-2.html\"),\n",
    "\n",
    "        # Go up one level\n",
    "        (\"https://example.com/articles/page-1.html\", \"../page-2.html\"),\n",
    "        (\"https://example.com/articles/page-1.html\", \"./page-2.html\"),\n",
    "        \n",
    "\n",
    "        # Absolute path (starts from root)\n",
    "        (\"https://example.com/articles/page-1.html\", \"/page-2.html\"),\n",
    "\n",
    "        # Base ends with slash (treated as folder)\n",
    "        (\"https://example.com/articles/\", \"page-2.html\"),\n",
    "\n",
    "        # Base without slash (treated as file)\n",
    "        (\"https://example.com/articles\", \"page-2.html\"),\n",
    "\n",
    "        # Base is domain only\n",
    "        (\"https://example.com\", \"page-2.html\"),\n",
    "\n",
    "        # href is an absolute URL (should override base)\n",
    "        (\"https://example.com/articles/page-1.html\", \"https://other.com/page-2.html\"),\n",
    "\n",
    "        # href starts with ./ (same folder)\n",
    "        (\"https://example.com/articles/\", \"./page-2.html\"),\n",
    "\n",
    "        # href with nested folder\n",
    "        (\"https://example.com/articles/\", \"2025/page-2.html\"),\n",
    "\n",
    "        # href goes up two levels\n",
    "        (\"https://example.com/a/b/c/index.html\", \"../../other.html\"),\n",
    "\n",
    "        # href starts with //\n",
    "        (\"https://example.com/articles/\", \"//cdn.example.com/lib.js\"),\n",
    "\n",
    "        # href is empty string\n",
    "        (\"https://example.com/articles/page-1.html\", \"\"),\n",
    "\n",
    "        # href is a fragment\n",
    "        (\"https://example.com/articles/page-1.html\", \"#section2\"),\n",
    "\n",
    "        # href is query only\n",
    "        (\"https://example.com/articles/page-1.html\", \"?page=2\"),\n",
    "\n",
    "        # href repeats current folder name (looks nested but isn't)\n",
    "        (\"https://example.com/articles/\", \"articles/page-2.html\"),\n",
    "\n",
    "        # href repeats current folder name with ./ (actually nested)\n",
    "        (\"https://example.com/articles/\", \"./articles/page-2.html\"),\n",
    "\n",
    "        # Weird case: base with trailing slash, href with leading slash\n",
    "        (\"https://example.com/articles/\", \"/page-2.html\"),\n",
    "\n",
    "        # Weird case: base with file, href with full path including ./ and ..\n",
    "        (\"https://example.com/blog/posts/post-1.html\", \"./../other/post-2.html\"),\n",
    "\n",
    "        # base is a \"file\", href has fragment and query\n",
    "        (\"https://example.com/page.html\", \"next.html?x=1#top\"),\n",
    "\n",
    "        # href is just a fragment\n",
    "        (\"https://example.com/articles/page-1.html\", \"#top\")\n",
    "    ]\n",
    "\n",
    "    for base, href in cases:\n",
    "        result = urljoin(base, href)\n",
    "        print(f\"{base:<45}\\n{href:<35}\\n{result}\\n\\n\\n\")\n",
    "\n",
    "# Run the demo\n",
    "demo_urljoin_cases()\n",
    "\n",
    "\n",
    "__ = lambda _: [i for i in dir(_) if not i.startswith(\"_\")]"
   ]
  },
  {
   "cell_type": "code",
   "execution_count": null,
   "id": "cd5b8ebd-bf6b-4d66-b0cb-2710a346c45d",
   "metadata": {
    "jupyter": {
     "source_hidden": true
    }
   },
   "outputs": [],
   "source": [
    "def fetch_response(url, session=requests.Session()):\n",
    "    try:\n",
    "        response = session.get(url, timeout=10)\n",
    "        response.raise_for_status()\n",
    "        print(f\"fetched: {url}\")\n",
    "        return response\n",
    "    except requests.exceptions.HTTPError as errh:\n",
    "        print(\"HTTP error occurred:\\n\", errh)\n",
    "    except requests.exceptions.RequestException as err:\n",
    "        print(\"Unexpected request error:\\n\", err)\n",
    "    except Exception as e:\n",
    "        print(f\"Unhandled exception:\\n{type(e).__name__}: {e}\")"
   ]
  },
  {
   "cell_type": "code",
   "execution_count": null,
   "id": "68985448-1ffa-4ad7-b2f2-c37d787f16ff",
   "metadata": {
    "jupyter": {
     "source_hidden": true
    }
   },
   "outputs": [],
   "source": [
    "def make_soup(response):\n",
    "    if not (response and response.status_code == 200):\n",
    "        print(\"couldn't make soup with:\", response)\n",
    "        return\n",
    "    html = response.text\n",
    "    soup = BeautifulSoup(html, \"lxml\")\n",
    "    print(\"soup's ready!\")\n",
    "    return soup"
   ]
  },
  {
   "cell_type": "code",
   "execution_count": null,
   "id": "8700728c-4d2a-4e32-8ba1-dbd3844d08cb",
   "metadata": {
    "jupyter": {
     "source_hidden": true
    }
   },
   "outputs": [],
   "source": [
    "def fetch_next_page(base_url):\n",
    "    res = fetch_response(base_url)\n",
    "    soup = make_soup(res)\n",
    "    \n",
    "    link = ((el := soup.select_one(\".pager .next a\")) and el.get(\"href\")) if soup else None\n",
    "    print(base_url, link, sep=\"\\n\")\n",
    "    return urljoin(base_url, link), soup if link else None"
   ]
  },
  {
   "cell_type": "code",
   "execution_count": null,
   "id": "c42f4bc1-751d-42b1-8bd3-d14ce40db66b",
   "metadata": {
    "jupyter": {
     "source_hidden": true
    }
   },
   "outputs": [],
   "source": [
    "def extract_all_books_data(soup):\n",
    "    if not soup or not (books := soup.select(\"article.product_pod\")):\n",
    "        print(\"soup had books data\")\n",
    "        return\n",
    "        \n",
    "    extracted_data = []\n",
    "    # lambda (selector, attr): (_.get(attr) if (_:= book.select_one(selector)) else \"\") # to avoid NoneType has no attr x\n",
    "    for book in books:\n",
    "        data = {\n",
    "            #image element data\n",
    "            \"image_href\": book.select_one(\".image_container a\").get(\"href\"),  # better to fail fast on no container w/ a\n",
    "            \"image_alt\": book.select_one(\".image_container a\").img.get(\"alt\"), # reach inside <a> to find <img>\n",
    "            \"image_src\": book.select_one(\".image_container a\").img.get(\"src\"),\n",
    "            \n",
    "            # star rating\n",
    "            \"star_rating\": [i for i in book.select_one(\".star-rating\").get(\"class\") if i != \"star-rating\"][0],    # from list of classes on attr filter out star-rating assume index 0 is the rating \n",
    "\n",
    "            # title element data\n",
    "            \"title_href\": book.select_one(\"h3 a\").get(\"href\"),\n",
    "            \"title_text\": book.select_one(\"h3 a\").get(\"title\"),    #.get_text()?\n",
    "            \n",
    "            # price and availability\n",
    "            \"price\": book.select_one(\".product_price\").select_one(\".price_color\").get_text(strip=True),\n",
    "            \"availability\": book.select_one(\".product_price\").select_one(\".availability\").get_text(strip=True),\n",
    "        }\n",
    "        extracted_data.append(data)\n",
    "    print(f\"got {len(extracted_data)} books\")\n",
    "    return extracted_data"
   ]
  },
  {
   "cell_type": "code",
   "execution_count": null,
   "id": "1511ca6f-2836-4996-924d-66b306402ba3",
   "metadata": {
    "jupyter": {
     "source_hidden": true
    }
   },
   "outputs": [],
   "source": []
  },
  {
   "cell_type": "code",
   "execution_count": null,
   "id": "5f438722-5018-45e6-826a-a3b7830c9552",
   "metadata": {
    "jupyter": {
     "source_hidden": true
    }
   },
   "outputs": [],
   "source": [
    "response = fetch_response(base)\n",
    "html = \"\"\"\n",
    "<article class=\"product_pod\">\n",
    "  <div class=\"image_container\">\n",
    "    <a href=\"catalogue/a-light-in-the-attic_1000/index.html\"><img alt=\"A Light in the Attic\" class=\"thumbnail\" src=\"media/cache/2c/da/2cdad67c44b002e7ead0cc35693c0e8b.jpg\" /></a>\n",
    "  </div>\n",
    "  <p class=\"star-rating Three\">\n",
    "    <i class=\"icon-star\"></i>\n",
    "    <i class=\"icon-star\"></i>\n",
    "    <i class=\"icon-star\"></i>\n",
    "    <i class=\"icon-star\"></i>\n",
    "    <i class=\"icon-star\"></i>\n",
    "  </p>\n",
    "  <h3><a href=\"catalogue/a-light-in-the-attic_1000/index.html\" title=\"A Light in the Attic\">A Light in the ...</a></h3>\n",
    "  <div class=\"product_price\">\n",
    "    <p class=\"price_color\">Â£51.77</p>\n",
    "    <p class=\"instock availability\">\n",
    "      <i class=\"icon-ok\"></i>\n",
    "      \n",
    "       In stock\n",
    "       \n",
    "    </p>\n",
    "    <form>\n",
    "      <button class=\"btn btn-primary btn-block\" data-loading-text=\"Adding...\" type=\"submit\">Add to basket</button>\n",
    "    </form>\n",
    "  </div>\n",
    "</article>\n",
    "\"\"\"\n",
    "soup = BeautifulSoup(html, \"lxml\")    # for offline\n",
    "soup = make_soup(response)"
   ]
  },
  {
   "cell_type": "code",
   "execution_count": null,
   "id": "294179e7-d420-4d6f-bb11-57bd734cd6f0",
   "metadata": {
    "jupyter": {
     "source_hidden": true
    }
   },
   "outputs": [],
   "source": [
    "books = extract_all_books_data(soup)\n",
    "books"
   ]
  },
  {
   "cell_type": "code",
   "execution_count": null,
   "id": "741e3521-44a3-4a8a-8c9d-3caa27a34f61",
   "metadata": {
    "jupyter": {
     "source_hidden": true
    }
   },
   "outputs": [],
   "source": [
    "# get all next pages \n",
    "base = \"https://books.toscrape.com\"\n",
    "links = []    #store links n their soups\n",
    "\n",
    "while (next, rest := fetch_next_page(base)):\n",
    "    links.append(next)\n",
    "    base = next"
   ]
  }
 ],
 "metadata": {
  "kernelspec": {
   "display_name": "Python 3 (ipykernel)",
   "language": "python",
   "name": "python3"
  },
  "language_info": {
   "codemirror_mode": {
    "name": "ipython",
    "version": 3
   },
   "file_extension": ".py",
   "mimetype": "text/x-python",
   "name": "python",
   "nbconvert_exporter": "python",
   "pygments_lexer": "ipython3",
   "version": "3.13.2"
  },
  "widgets": {
   "application/vnd.jupyter.widget-state+json": {
    "state": {},
    "version_major": 2,
    "version_minor": 0
   }
  }
 },
 "nbformat": 4,
 "nbformat_minor": 5
}
